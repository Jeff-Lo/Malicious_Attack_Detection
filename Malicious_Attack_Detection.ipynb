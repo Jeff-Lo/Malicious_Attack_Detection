{
  "cells": [
    {
      "cell_type": "markdown",
      "metadata": {
        "id": "l9Bai6o89mvX"
      },
      "source": [
        "# Title : Malicious Attack Detection using NF-UNSW-NB15 dataset\n",
        "\n"
      ]
    },
    {
      "cell_type": "markdown",
      "metadata": {
        "id": "_aT0D_zT907d"
      },
      "source": [
        "# Problem Definition\n",
        "\n",
        "We would like to detect malicious attacks from network packets. Our goal is to use our trained model to classify an incoming packet to be benign or malicious."
      ]
    },
    {
      "cell_type": "markdown",
      "metadata": {
        "id": "G5AZ00MU-GOx"
      },
      "source": [
        "# Dataset\n",
        "\n",
        "Our dataset is NF-UNSW-NB15 dataset from kaggle. (https://www.kaggle.com/datasets/dhoogla/nfunswnb15v2?select=NF-UNSW-NB15-V2.parquet) This is one dataset in the NFV2-collection by the university of Queensland aimed at standardizing network-security datasets to achieve interoperability and larger analyses.\n",
        "The targets of the dataset are benign (account for 96.22%) and malicious. The attack type of malicious contains Exploits, Fuzzers, Reconnaissance, etc. The total number of instances is about 2M.\n"
      ]
    },
    {
      "cell_type": "markdown",
      "metadata": {
        "id": "coDet5a1-miS"
      },
      "source": [
        "# Model Description"
      ]
    },
    {
      "cell_type": "markdown",
      "metadata": {
        "id": "zDKjl-M6YLm3"
      },
      "source": [
        "## Preprocessing"
      ]
    },
    {
      "cell_type": "markdown",
      "metadata": {
        "id": "BRGf1HykYLwJ"
      },
      "source": [
        "1. We expand our features by transforming some categorical columns as dummy variables.\n",
        "\n",
        "2. Then we use MinMaxScaler to normalize the data because the value ranges between columns are large.\n",
        "\n",
        "\n",
        "Number of features : 107 (originally 43)\n",
        "\n",
        "Number of instances : 2M"
      ]
    },
    {
      "cell_type": "markdown",
      "metadata": {
        "id": "hhPMrSKzYLyo"
      },
      "source": [
        "## Model"
      ]
    },
    {
      "cell_type": "markdown",
      "metadata": {
        "id": "xCimqeXFYaLk"
      },
      "source": [
        "We have mainly two types of model. One is auto-encoder based, the others are non auto-encoder based models. The models of non auto-encoder are Logistic regression, Decision Tree, Random Forest and Neural Network. We randomly select 5000 anomaly and 5000 normal data to evaluate our models. However, for autoencoder, we use the remaining (how much)normal data. For other models, we undersample the benign class to train on about 70000 instances for both classes.\n",
        "\n",
        "1. Autoencoder\n",
        "\n",
        "We use autoencoder for anomaly detection because we want to model what a normal packet looks like. We train a network that reduce its input into 4  dimension (latent space) and reconstruct back to 107 dimension. We expect abnormal data to reconstruct poorly since the model has not seen them before, thus losses are higher for anomaly. Then we can decide a threshold to classify normal and anomaly packet.\n",
        "\n",
        "2. Logistic Regression\n",
        "\n",
        "We use logistic regression for anomaly detection because logistic regression is a statistical model commonly used to analyze binary classification problems. It is specifically designed to predict the probability of an event occurring, given certain input variables or features. The binary classification problem refers to a scenario where the outcome variable can take only two possible values, typically represented as 0 and 1. Overall, logistic regression is well-suited for binary classification problems due to its ability to model probabilities, its flexibility in capturing the relationship between variables and outcomes, and its interpretability in terms of log-odds and decision boundaries.\n",
        "\n",
        "3. Decision Tree\n",
        "\n",
        "We use decision tree for anomaly detection because decision tree is a popular machine learning algorithm used for both classification and regression tasks. It is particularly well-suited for binary classification problems, where the goal is to assign instances to one of two classes. Besides, we set the max_depth of decision tree is 3, which prevents from overfitting.\n",
        "\n",
        "4. Random Forest\n",
        "\n",
        "We use random forest for anomaly detection because random forest is well-suited for binary classification problems due to its ability to handle binary outcomes. It is an ensemble learning method that combines multiple decision trees to make predictions. Each decision tree in the forest is trained on a different subset of the data, and the final prediction is determined by aggregating the predictions of all the individual trees. Besides, we set the max_depth of random forest is 3, which prevents from overfitting.\n",
        "\n",
        "5. Neural Network\n",
        "\n",
        "We use neural network for anomaly detection because neural network can be effectively used for binary classification problems due to its ability to model complex relationships between input data and its corresponding classes. Also, neural network can learn complex, non-linear relationships in the data, adapt to a wide range of input features, and generalize well to new instances. We train a network that reduce its input into 1 dimension (latent space). Then we can classify normal and anomaly packet through the neural network model.\n"
      ]
    },
    {
      "cell_type": "markdown",
      "metadata": {
        "id": "suQX6HMMYaON"
      },
      "source": [
        "# Analysis codes"
      ]
    },
    {
      "cell_type": "markdown",
      "metadata": {
        "id": "G3hlHzOjlKEx"
      },
      "source": [
        "## Preprocessing"
      ]
    },
    {
      "cell_type": "code",
      "execution_count": null,
      "metadata": {
        "colab": {
          "base_uri": "https://localhost:8080/"
        },
        "id": "XQLaLiYf70xX",
        "outputId": "8f7968f9-3e39-417d-ee96-5f363633c7a6"
      },
      "outputs": [
        {
          "name": "stdout",
          "output_type": "stream",
          "text": [
            "Looking in indexes: https://pypi.org/simple, https://us-python.pkg.dev/colab-wheels/public/simple/\n",
            "Requirement already satisfied: urllib3 in /usr/local/lib/python3.10/dist-packages (1.26.15)\n"
          ]
        }
      ],
      "source": [
        "!pip install urllib3"
      ]
    },
    {
      "cell_type": "code",
      "execution_count": null,
      "metadata": {
        "id": "3ji-I7IZ4S4E"
      },
      "outputs": [],
      "source": [
        "\n",
        "import numpy as np\n",
        "import matplotlib.pyplot as plt\n",
        "import pandas as pd"
      ]
    },
    {
      "cell_type": "code",
      "execution_count": null,
      "metadata": {
        "id": "8alB59qg4YnX"
      },
      "outputs": [],
      "source": [
        "df = pd.read_parquet('https://drive.google.com/uc?id=1m04SRdFo34QnHDiBh1A2ymL_iT3brQYJ')"
      ]
    },
    {
      "cell_type": "code",
      "execution_count": null,
      "metadata": {
        "id": "vsi3rB3w4mCu"
      },
      "outputs": [],
      "source": [
        "labels = df[['Label','Attack']]\n",
        "df.drop(columns=['Label','Attack'],inplace=True)"
      ]
    },
    {
      "cell_type": "code",
      "execution_count": null,
      "metadata": {
        "id": "GxIIkUrB4mVJ"
      },
      "outputs": [],
      "source": [
        "# dummy :TCP_FLAGS CLIENT_TCP_FLAGS SERVER_TCP_FLAGS MIN_TTL MAX_TTL FTP_COMMAND_RET_CODE\n",
        "dummy = ['TCP_FLAGS','CLIENT_TCP_FLAGS','SERVER_TCP_FLAGS','MIN_TTL','MAX_TTL','FTP_COMMAND_RET_CODE']"
      ]
    },
    {
      "cell_type": "code",
      "execution_count": null,
      "metadata": {
        "id": "KdPH0oVn4nwi"
      },
      "outputs": [],
      "source": [
        "df = pd.get_dummies(data=df,columns=dummy,prefix_sep = '__')"
      ]
    },
    {
      "cell_type": "code",
      "execution_count": null,
      "metadata": {
        "colab": {
          "base_uri": "https://localhost:8080/"
        },
        "id": "Eqff3Uzj4o7k",
        "outputId": "3af0ee9a-9701-481f-da3e-22bf1c068ad3"
      },
      "outputs": [
        {
          "data": {
            "text/plain": [
              "['TCP_FLAGS__4',\n",
              " 'TCP_FLAGS__21',\n",
              " 'TCP_FLAGS__23',\n",
              " 'TCP_FLAGS__31',\n",
              " 'CLIENT_TCP_FLAGS__4',\n",
              " 'CLIENT_TCP_FLAGS__23',\n",
              " 'CLIENT_TCP_FLAGS__30',\n",
              " 'CLIENT_TCP_FLAGS__31',\n",
              " 'SERVER_TCP_FLAGS__2',\n",
              " 'SERVER_TCP_FLAGS__20',\n",
              " 'SERVER_TCP_FLAGS__22',\n",
              " 'SERVER_TCP_FLAGS__23',\n",
              " 'SERVER_TCP_FLAGS__30',\n",
              " 'SERVER_TCP_FLAGS__31',\n",
              " 'MIN_TTL__30',\n",
              " 'MIN_TTL__32',\n",
              " 'MIN_TTL__255',\n",
              " 'MAX_TTL__60',\n",
              " 'FTP_COMMAND_RET_CODE__350.0',\n",
              " 'FTP_COMMAND_RET_CODE__501.0']"
            ]
          },
          "execution_count": 7,
          "metadata": {},
          "output_type": "execute_result"
        }
      ],
      "source": [
        "# 出現少於十次的dummy variable 則刪除(降低一個維度的運算複雜度)\n",
        "sparse = []\n",
        "cnt = 0\n",
        "for col in df.columns:\n",
        "\n",
        "  if '__' in col and df[col].sum() < 10:\n",
        "    sparse.append(col)\n",
        "    cnt += 1\n",
        "sparse"
      ]
    },
    {
      "cell_type": "code",
      "execution_count": null,
      "metadata": {
        "id": "vpj_1lrU4qHh"
      },
      "outputs": [],
      "source": [
        "df.drop(columns=sparse,inplace=True)"
      ]
    },
    {
      "cell_type": "code",
      "execution_count": null,
      "metadata": {
        "id": "eBLqQC9g4rnc"
      },
      "outputs": [],
      "source": [
        "from sklearn.preprocessing import MinMaxScaler\n",
        "# 標準化 因各欄位值愈差很多\n",
        "cols = df.columns\n",
        "scaler = MinMaxScaler()\n",
        "\n",
        "df = pd.DataFrame(scaler.fit_transform(df))\n",
        "df.columns = cols"
      ]
    },
    {
      "cell_type": "code",
      "execution_count": null,
      "metadata": {
        "id": "Qs-jJ-QF4s7b"
      },
      "outputs": [],
      "source": [
        "# 再添加回Label(不參與標準化)\n",
        "df['Label'] = labels['Label']"
      ]
    },
    {
      "cell_type": "code",
      "execution_count": null,
      "metadata": {
        "colab": {
          "base_uri": "https://localhost:8080/",
          "height": 386
        },
        "id": "AL3Wbf0g4u1F",
        "outputId": "c1e95c80-7b55-42f7-d52a-30bb43e667e6"
      },
      "outputs": [
        {
          "data": {
            "text/html": [
              "\n",
              "  <div id=\"df-82dd6c40-3f0e-4e4a-bebd-265b073c263c\">\n",
              "    <div class=\"colab-df-container\">\n",
              "      <div>\n",
              "<style scoped>\n",
              "    .dataframe tbody tr th:only-of-type {\n",
              "        vertical-align: middle;\n",
              "    }\n",
              "\n",
              "    .dataframe tbody tr th {\n",
              "        vertical-align: top;\n",
              "    }\n",
              "\n",
              "    .dataframe thead th {\n",
              "        text-align: right;\n",
              "    }\n",
              "</style>\n",
              "<table border=\"1\" class=\"dataframe\">\n",
              "  <thead>\n",
              "    <tr style=\"text-align: right;\">\n",
              "      <th></th>\n",
              "      <th>L4_SRC_PORT</th>\n",
              "      <th>L4_DST_PORT</th>\n",
              "      <th>PROTOCOL</th>\n",
              "      <th>L7_PROTO</th>\n",
              "      <th>IN_BYTES</th>\n",
              "      <th>IN_PKTS</th>\n",
              "      <th>OUT_BYTES</th>\n",
              "      <th>OUT_PKTS</th>\n",
              "      <th>FLOW_DURATION_MILLISECONDS</th>\n",
              "      <th>DURATION_IN</th>\n",
              "      <th>...</th>\n",
              "      <th>FTP_COMMAND_RET_CODE__220.0</th>\n",
              "      <th>FTP_COMMAND_RET_CODE__221.0</th>\n",
              "      <th>FTP_COMMAND_RET_CODE__226.0</th>\n",
              "      <th>FTP_COMMAND_RET_CODE__227.0</th>\n",
              "      <th>FTP_COMMAND_RET_CODE__229.0</th>\n",
              "      <th>FTP_COMMAND_RET_CODE__230.0</th>\n",
              "      <th>FTP_COMMAND_RET_CODE__250.0</th>\n",
              "      <th>FTP_COMMAND_RET_CODE__257.0</th>\n",
              "      <th>FTP_COMMAND_RET_CODE__331.0</th>\n",
              "      <th>Label</th>\n",
              "    </tr>\n",
              "  </thead>\n",
              "  <tbody>\n",
              "    <tr>\n",
              "      <th>0</th>\n",
              "      <td>0.019913</td>\n",
              "      <td>0.00032</td>\n",
              "      <td>0.023529</td>\n",
              "      <td>0.004032</td>\n",
              "      <td>2.645379e-07</td>\n",
              "      <td>0.000000</td>\n",
              "      <td>0.000013</td>\n",
              "      <td>0.000271</td>\n",
              "      <td>0.0</td>\n",
              "      <td>0.0</td>\n",
              "      <td>...</td>\n",
              "      <td>0.0</td>\n",
              "      <td>0.0</td>\n",
              "      <td>0.0</td>\n",
              "      <td>0.0</td>\n",
              "      <td>0.0</td>\n",
              "      <td>0.0</td>\n",
              "      <td>0.0</td>\n",
              "      <td>0.0</td>\n",
              "      <td>1.0</td>\n",
              "      <td>0</td>\n",
              "    </tr>\n",
              "    <tr>\n",
              "      <th>1</th>\n",
              "      <td>0.019913</td>\n",
              "      <td>0.00032</td>\n",
              "      <td>0.023529</td>\n",
              "      <td>0.004032</td>\n",
              "      <td>8.597483e-06</td>\n",
              "      <td>0.000175</td>\n",
              "      <td>0.000032</td>\n",
              "      <td>0.000632</td>\n",
              "      <td>0.0</td>\n",
              "      <td>0.0</td>\n",
              "      <td>...</td>\n",
              "      <td>0.0</td>\n",
              "      <td>0.0</td>\n",
              "      <td>0.0</td>\n",
              "      <td>0.0</td>\n",
              "      <td>0.0</td>\n",
              "      <td>1.0</td>\n",
              "      <td>0.0</td>\n",
              "      <td>0.0</td>\n",
              "      <td>0.0</td>\n",
              "      <td>0</td>\n",
              "    </tr>\n",
              "    <tr>\n",
              "      <th>2</th>\n",
              "      <td>0.019913</td>\n",
              "      <td>0.00032</td>\n",
              "      <td>0.023529</td>\n",
              "      <td>0.004032</td>\n",
              "      <td>1.587228e-05</td>\n",
              "      <td>0.000349</td>\n",
              "      <td>0.000051</td>\n",
              "      <td>0.000993</td>\n",
              "      <td>0.0</td>\n",
              "      <td>0.0</td>\n",
              "      <td>...</td>\n",
              "      <td>0.0</td>\n",
              "      <td>0.0</td>\n",
              "      <td>0.0</td>\n",
              "      <td>0.0</td>\n",
              "      <td>1.0</td>\n",
              "      <td>0.0</td>\n",
              "      <td>0.0</td>\n",
              "      <td>0.0</td>\n",
              "      <td>0.0</td>\n",
              "      <td>0</td>\n",
              "    </tr>\n",
              "    <tr>\n",
              "      <th>3</th>\n",
              "      <td>0.019913</td>\n",
              "      <td>0.00032</td>\n",
              "      <td>0.023529</td>\n",
              "      <td>0.004032</td>\n",
              "      <td>2.314707e-05</td>\n",
              "      <td>0.000524</td>\n",
              "      <td>0.000072</td>\n",
              "      <td>0.001354</td>\n",
              "      <td>0.0</td>\n",
              "      <td>0.0</td>\n",
              "      <td>...</td>\n",
              "      <td>0.0</td>\n",
              "      <td>0.0</td>\n",
              "      <td>0.0</td>\n",
              "      <td>0.0</td>\n",
              "      <td>0.0</td>\n",
              "      <td>0.0</td>\n",
              "      <td>0.0</td>\n",
              "      <td>0.0</td>\n",
              "      <td>0.0</td>\n",
              "      <td>0</td>\n",
              "    </tr>\n",
              "    <tr>\n",
              "      <th>4</th>\n",
              "      <td>0.019913</td>\n",
              "      <td>0.00032</td>\n",
              "      <td>0.023529</td>\n",
              "      <td>0.004032</td>\n",
              "      <td>3.405926e-05</td>\n",
              "      <td>0.000786</td>\n",
              "      <td>0.000101</td>\n",
              "      <td>0.001896</td>\n",
              "      <td>0.0</td>\n",
              "      <td>0.0</td>\n",
              "      <td>...</td>\n",
              "      <td>0.0</td>\n",
              "      <td>0.0</td>\n",
              "      <td>0.0</td>\n",
              "      <td>0.0</td>\n",
              "      <td>0.0</td>\n",
              "      <td>1.0</td>\n",
              "      <td>0.0</td>\n",
              "      <td>0.0</td>\n",
              "      <td>0.0</td>\n",
              "      <td>0</td>\n",
              "    </tr>\n",
              "  </tbody>\n",
              "</table>\n",
              "<p>5 rows × 108 columns</p>\n",
              "</div>\n",
              "      <button class=\"colab-df-convert\" onclick=\"convertToInteractive('df-82dd6c40-3f0e-4e4a-bebd-265b073c263c')\"\n",
              "              title=\"Convert this dataframe to an interactive table.\"\n",
              "              style=\"display:none;\">\n",
              "        \n",
              "  <svg xmlns=\"http://www.w3.org/2000/svg\" height=\"24px\"viewBox=\"0 0 24 24\"\n",
              "       width=\"24px\">\n",
              "    <path d=\"M0 0h24v24H0V0z\" fill=\"none\"/>\n",
              "    <path d=\"M18.56 5.44l.94 2.06.94-2.06 2.06-.94-2.06-.94-.94-2.06-.94 2.06-2.06.94zm-11 1L8.5 8.5l.94-2.06 2.06-.94-2.06-.94L8.5 2.5l-.94 2.06-2.06.94zm10 10l.94 2.06.94-2.06 2.06-.94-2.06-.94-.94-2.06-.94 2.06-2.06.94z\"/><path d=\"M17.41 7.96l-1.37-1.37c-.4-.4-.92-.59-1.43-.59-.52 0-1.04.2-1.43.59L10.3 9.45l-7.72 7.72c-.78.78-.78 2.05 0 2.83L4 21.41c.39.39.9.59 1.41.59.51 0 1.02-.2 1.41-.59l7.78-7.78 2.81-2.81c.8-.78.8-2.07 0-2.86zM5.41 20L4 18.59l7.72-7.72 1.47 1.35L5.41 20z\"/>\n",
              "  </svg>\n",
              "      </button>\n",
              "      \n",
              "  <style>\n",
              "    .colab-df-container {\n",
              "      display:flex;\n",
              "      flex-wrap:wrap;\n",
              "      gap: 12px;\n",
              "    }\n",
              "\n",
              "    .colab-df-convert {\n",
              "      background-color: #E8F0FE;\n",
              "      border: none;\n",
              "      border-radius: 50%;\n",
              "      cursor: pointer;\n",
              "      display: none;\n",
              "      fill: #1967D2;\n",
              "      height: 32px;\n",
              "      padding: 0 0 0 0;\n",
              "      width: 32px;\n",
              "    }\n",
              "\n",
              "    .colab-df-convert:hover {\n",
              "      background-color: #E2EBFA;\n",
              "      box-shadow: 0px 1px 2px rgba(60, 64, 67, 0.3), 0px 1px 3px 1px rgba(60, 64, 67, 0.15);\n",
              "      fill: #174EA6;\n",
              "    }\n",
              "\n",
              "    [theme=dark] .colab-df-convert {\n",
              "      background-color: #3B4455;\n",
              "      fill: #D2E3FC;\n",
              "    }\n",
              "\n",
              "    [theme=dark] .colab-df-convert:hover {\n",
              "      background-color: #434B5C;\n",
              "      box-shadow: 0px 1px 3px 1px rgba(0, 0, 0, 0.15);\n",
              "      filter: drop-shadow(0px 1px 2px rgba(0, 0, 0, 0.3));\n",
              "      fill: #FFFFFF;\n",
              "    }\n",
              "  </style>\n",
              "\n",
              "      <script>\n",
              "        const buttonEl =\n",
              "          document.querySelector('#df-82dd6c40-3f0e-4e4a-bebd-265b073c263c button.colab-df-convert');\n",
              "        buttonEl.style.display =\n",
              "          google.colab.kernel.accessAllowed ? 'block' : 'none';\n",
              "\n",
              "        async function convertToInteractive(key) {\n",
              "          const element = document.querySelector('#df-82dd6c40-3f0e-4e4a-bebd-265b073c263c');\n",
              "          const dataTable =\n",
              "            await google.colab.kernel.invokeFunction('convertToInteractive',\n",
              "                                                     [key], {});\n",
              "          if (!dataTable) return;\n",
              "\n",
              "          const docLinkHtml = 'Like what you see? Visit the ' +\n",
              "            '<a target=\"_blank\" href=https://colab.research.google.com/notebooks/data_table.ipynb>data table notebook</a>'\n",
              "            + ' to learn more about interactive tables.';\n",
              "          element.innerHTML = '';\n",
              "          dataTable['output_type'] = 'display_data';\n",
              "          await google.colab.output.renderOutput(dataTable, element);\n",
              "          const docLink = document.createElement('div');\n",
              "          docLink.innerHTML = docLinkHtml;\n",
              "          element.appendChild(docLink);\n",
              "        }\n",
              "      </script>\n",
              "    </div>\n",
              "  </div>\n",
              "  "
            ],
            "text/plain": [
              "   L4_SRC_PORT  L4_DST_PORT  PROTOCOL  L7_PROTO      IN_BYTES   IN_PKTS  \\\n",
              "0     0.019913      0.00032  0.023529  0.004032  2.645379e-07  0.000000   \n",
              "1     0.019913      0.00032  0.023529  0.004032  8.597483e-06  0.000175   \n",
              "2     0.019913      0.00032  0.023529  0.004032  1.587228e-05  0.000349   \n",
              "3     0.019913      0.00032  0.023529  0.004032  2.314707e-05  0.000524   \n",
              "4     0.019913      0.00032  0.023529  0.004032  3.405926e-05  0.000786   \n",
              "\n",
              "   OUT_BYTES  OUT_PKTS  FLOW_DURATION_MILLISECONDS  DURATION_IN  ...  \\\n",
              "0   0.000013  0.000271                         0.0          0.0  ...   \n",
              "1   0.000032  0.000632                         0.0          0.0  ...   \n",
              "2   0.000051  0.000993                         0.0          0.0  ...   \n",
              "3   0.000072  0.001354                         0.0          0.0  ...   \n",
              "4   0.000101  0.001896                         0.0          0.0  ...   \n",
              "\n",
              "   FTP_COMMAND_RET_CODE__220.0  FTP_COMMAND_RET_CODE__221.0  \\\n",
              "0                          0.0                          0.0   \n",
              "1                          0.0                          0.0   \n",
              "2                          0.0                          0.0   \n",
              "3                          0.0                          0.0   \n",
              "4                          0.0                          0.0   \n",
              "\n",
              "   FTP_COMMAND_RET_CODE__226.0  FTP_COMMAND_RET_CODE__227.0  \\\n",
              "0                          0.0                          0.0   \n",
              "1                          0.0                          0.0   \n",
              "2                          0.0                          0.0   \n",
              "3                          0.0                          0.0   \n",
              "4                          0.0                          0.0   \n",
              "\n",
              "   FTP_COMMAND_RET_CODE__229.0  FTP_COMMAND_RET_CODE__230.0  \\\n",
              "0                          0.0                          0.0   \n",
              "1                          0.0                          1.0   \n",
              "2                          1.0                          0.0   \n",
              "3                          0.0                          0.0   \n",
              "4                          0.0                          1.0   \n",
              "\n",
              "   FTP_COMMAND_RET_CODE__250.0  FTP_COMMAND_RET_CODE__257.0  \\\n",
              "0                          0.0                          0.0   \n",
              "1                          0.0                          0.0   \n",
              "2                          0.0                          0.0   \n",
              "3                          0.0                          0.0   \n",
              "4                          0.0                          0.0   \n",
              "\n",
              "   FTP_COMMAND_RET_CODE__331.0  Label  \n",
              "0                          1.0      0  \n",
              "1                          0.0      0  \n",
              "2                          0.0      0  \n",
              "3                          0.0      0  \n",
              "4                          0.0      0  \n",
              "\n",
              "[5 rows x 108 columns]"
            ]
          },
          "execution_count": 11,
          "metadata": {},
          "output_type": "execute_result"
        }
      ],
      "source": [
        "df.head()"
      ]
    },
    {
      "cell_type": "code",
      "execution_count": null,
      "metadata": {
        "colab": {
          "base_uri": "https://localhost:8080/"
        },
        "id": "vNxj2ZQ3WI85",
        "outputId": "81d11612-4d52-4f91-d8a8-1d1fe34cfde0"
      },
      "outputs": [
        {
          "name": "stdout",
          "output_type": "stream",
          "text": [
            "[14592, 3278, 36048, 32098, 29256]\n",
            "[102940, 768300, 462889, 1270776, 1505430]\n"
          ]
        }
      ],
      "source": [
        "# 準備 10000 筆 測試資料 normal anomaly 各5000筆\n",
        "# Autoencoder 輸入 : Test資料外的normal 共 1906666 筆\n",
        "# Autoencoder 輸出 : 同輸入\n",
        "\n",
        "# 其他模型輸入 : 190666 筆 normal Downsample 到 70079筆 normal\n",
        "#                                           + 70079筆 anomaly\n",
        "#                                          共 140158筆\n",
        "\n",
        "test_size = 5000\n",
        "\n",
        "anomaly = df[df['Label'] == 1]\n",
        "import random\n",
        "# 設相同的random seed 確保每次亂數相同\n",
        "random.seed(42)\n",
        "\n",
        "anomaly_idx = (random.sample([s for s in range(len(anomaly))],5000))\n",
        "anomaly.index = np.arange(len(anomaly))\n",
        "print(anomaly_idx[:5])\n",
        "test_set_anomaly = anomaly[anomaly.index.isin(anomaly_idx)]\n",
        "\n",
        "normal = df[df['Label'] == 0]\n",
        "normal.index = np.arange(len(normal))\n",
        "normal_idx = (random.sample([s for s in range(len(normal))],5000))\n",
        "print(normal_idx[:5])\n",
        "\n",
        "test_set_normal = normal[normal.index.isin(normal_idx)]\n",
        "\n",
        "X_test = pd.concat([test_set_anomaly,test_set_normal])\n",
        "X_test['Label'].value_counts()\n",
        "\n",
        "Y_test = X_test['Label']\n",
        "X_test.drop(columns='Label',inplace=True)"
      ]
    },
    {
      "cell_type": "code",
      "execution_count": null,
      "metadata": {
        "colab": {
          "base_uri": "https://localhost:8080/"
        },
        "id": "ncUO-_2NaN-B",
        "outputId": "b76f7943-ae28-4b71-b8b6-ea4748ea89c0"
      },
      "outputs": [
        {
          "name": "stdout",
          "output_type": "stream",
          "text": [
            "70079\n"
          ]
        }
      ],
      "source": [
        "# Downsample 過程\n",
        "train_benign = normal[~normal.index.isin(normal_idx)]\n",
        "train_anomaly = anomaly[~anomaly.index.isin(anomaly_idx)]\n",
        "\n",
        "train_benign.index = np.arange(len(train_benign))\n",
        "\n",
        "normal_idx_mldl = (random.sample([s for s in range(len(train_benign))],len(train_anomaly)))\n",
        "train_benign_ml = train_benign[train_benign.index.isin(normal_idx_mldl)]\n",
        "print(len(normal_idx_mldl))"
      ]
    },
    {
      "cell_type": "code",
      "execution_count": null,
      "metadata": {
        "id": "ZMmD_Rm8iW2H"
      },
      "outputs": [],
      "source": [
        "train_concat = pd.concat([train_benign_ml,train_anomaly])\n",
        "Y_train_mldl = train_concat['Label']\n",
        "X_train_mldl = train_concat.drop(columns='Label')"
      ]
    },
    {
      "cell_type": "code",
      "execution_count": null,
      "metadata": {
        "colab": {
          "base_uri": "https://localhost:8080/"
        },
        "id": "x70yZhvujV8U",
        "outputId": "8e5619a6-3b6e-45a8-a0ff-5d661f1374c3"
      },
      "outputs": [
        {
          "name": "stdout",
          "output_type": "stream",
          "text": [
            "(140158,)\n",
            "(140158, 107)\n"
          ]
        }
      ],
      "source": [
        "print(Y_train_mldl.shape)\n",
        "print(X_train_mldl.shape)"
      ]
    },
    {
      "cell_type": "markdown",
      "metadata": {
        "id": "WDTBQ-u9lQid"
      },
      "source": [
        "## AutoEncoder"
      ]
    },
    {
      "cell_type": "code",
      "execution_count": null,
      "metadata": {
        "id": "5Mac-xbv4w7R"
      },
      "outputs": [],
      "source": [
        "import numpy as np\n",
        "from tensorflow import keras\n",
        "from tensorflow.keras import layers\n",
        "Y_train_encoder = train_benign['Label']\n",
        "X_train_encoder = train_benign.drop(columns='Label')"
      ]
    },
    {
      "cell_type": "code",
      "execution_count": null,
      "metadata": {
        "colab": {
          "base_uri": "https://localhost:8080/"
        },
        "id": "_wcL-5OidTT_",
        "outputId": "28384170-42e1-4123-e00d-e3e7a8e28f00"
      },
      "outputs": [
        {
          "data": {
            "text/plain": [
              "(1906666, 107)"
            ]
          },
          "execution_count": 17,
          "metadata": {},
          "output_type": "execute_result"
        }
      ],
      "source": [
        "X_train_encoder.shape"
      ]
    },
    {
      "cell_type": "code",
      "execution_count": null,
      "metadata": {
        "id": "agDDbgVV427c"
      },
      "outputs": [],
      "source": [
        "input_dim = X_train_encoder.shape[1]  # Dimension of input data (107)\n",
        "\n",
        "# Encoder\n",
        "encoder_input = keras.Input(shape=(input_dim,))\n",
        "encoder_output = layers.Dense(64, activation=\"relu\")(encoder_input)\n",
        "encoder_output = layers.Dense(32, activation=\"relu\")(encoder_output)\n",
        "encoder_output = layers.Dense(16, activation=\"relu\")(encoder_output)\n",
        "encoder_output = layers.Dense(8, activation=\"relu\")(encoder_output)\n",
        "# latent space (4D)\n",
        "decoder_output = layers.Dense(4, activation=\"relu\")(encoder_output)\n",
        "decoder_output = layers.Dense(8, activation=\"relu\")(decoder_output)\n",
        "decoder_output = layers.Dense(16, activation=\"relu\")(decoder_output)\n",
        "\n",
        "# Decoder\n",
        "decoder_output = layers.Dense(32, activation=\"relu\")(decoder_output)\n",
        "decoder_output = layers.Dense(64, activation=\"relu\")(decoder_output)\n",
        "decoder_output = layers.Dense(input_dim, activation=\"sigmoid\")(decoder_output)\n",
        "\n",
        "# Autoencoder model\n",
        "autoencoder = keras.Model(encoder_input, decoder_output)\n"
      ]
    },
    {
      "cell_type": "code",
      "execution_count": null,
      "metadata": {
        "id": "zST69xu344Tv"
      },
      "outputs": [],
      "source": [
        "opt = keras.optimizers.Adam(learning_rate=0.01)\n",
        "autoencoder.compile(optimizer=\"adam\", loss='mse')\n",
        "# 訓練3輪之後都沒有進步0.0001的話就提早停止訓練\n",
        "callback = keras.callbacks.EarlyStopping(\n",
        "  monitor = 'val_loss', # monitor val_loss when training\n",
        "  min_delta = 0.0001, # minimum change of 'monitor' to qualify as an improvementness.\n",
        "  patience = 3 # epochs with no improvement after which training will be stopped.\n",
        ")\n"
      ]
    },
    {
      "cell_type": "code",
      "execution_count": null,
      "metadata": {
        "colab": {
          "base_uri": "https://localhost:8080/"
        },
        "id": "0xm3Z2R446hF",
        "outputId": "bca16cf9-3d24-4e8a-8986-a6bbe91d1c8e"
      },
      "outputs": [
        {
          "name": "stdout",
          "output_type": "stream",
          "text": [
            "Epoch 1/20\n",
            "11917/11917 [==============================] - 50s 4ms/step - loss: 0.0066 - val_loss: 0.0047\n",
            "Epoch 2/20\n",
            "11917/11917 [==============================] - 55s 5ms/step - loss: 0.0040 - val_loss: 0.0036\n",
            "Epoch 3/20\n",
            "11917/11917 [==============================] - 52s 4ms/step - loss: 0.0031 - val_loss: 0.0029\n",
            "Epoch 4/20\n",
            "11917/11917 [==============================] - 51s 4ms/step - loss: 0.0027 - val_loss: 0.0028\n",
            "Epoch 5/20\n",
            "11917/11917 [==============================] - 54s 5ms/step - loss: 0.0027 - val_loss: 0.0028\n",
            "Epoch 6/20\n",
            "11917/11917 [==============================] - 44s 4ms/step - loss: 0.0026 - val_loss: 0.0027\n",
            "Epoch 7/20\n",
            "11917/11917 [==============================] - 44s 4ms/step - loss: 0.0026 - val_loss: 0.0027\n",
            "Epoch 8/20\n",
            "11917/11917 [==============================] - 43s 4ms/step - loss: 0.0026 - val_loss: 0.0027\n"
          ]
        }
      ],
      "source": [
        "history = autoencoder.fit(X_train_encoder, X_train_encoder, epochs=20, batch_size=128, validation_split=0.2,callbacks=[callback])"
      ]
    },
    {
      "cell_type": "code",
      "execution_count": null,
      "metadata": {
        "colab": {
          "base_uri": "https://localhost:8080/",
          "height": 607
        },
        "id": "uIbpuW9Eu7HX",
        "outputId": "5c77c921-00c0-45d1-93d8-4c65a84eea02"
      },
      "outputs": [
        {
          "data": {
            "image/png": "[encoded data removed]",
            "text/plain": [
              "<Figure size 800x600 with 1 Axes>"
            ]
          },
          "metadata": {},
          "output_type": "display_data"
        }
      ],
      "source": [
        "import matplotlib.pyplot as plt\n",
        "\n",
        "model_history = pd.DataFrame(history.history)\n",
        "model_history['epoch'] = history.epoch\n",
        "\n",
        "fig, ax = plt.subplots(1, figsize=(8,6))\n",
        "num_epochs = model_history.shape[0]\n",
        "\n",
        "ax.plot(np.arange(0, num_epochs), model_history[\"loss\"],\n",
        "        label=\"training_loss\")\n",
        "ax.plot(np.arange(0, num_epochs), model_history[\"val_loss\"],\n",
        "        label=\"training_val_loss\")\n",
        "\n",
        "ax.set_xlabel(\"Epoch\")\n",
        "ax.set_ylabel(\"Loss\")\n",
        "ax.legend()\n",
        "\n",
        "plt.tight_layout()\n",
        "plt.show()"
      ]
    },
    {
      "cell_type": "code",
      "execution_count": null,
      "metadata": {
        "colab": {
          "base_uri": "https://localhost:8080/"
        },
        "id": "vc2U5BAa2Ubj",
        "outputId": "bd1663c3-0471-4ef4-c443-7f506d28af45"
      },
      "outputs": [
        {
          "data": {
            "text/plain": [
              "('model.h5', <http.client.HTTPMessage at 0x7fa9aa02bb80>)"
            ]
          },
          "execution_count": 20,
          "metadata": {},
          "output_type": "execute_result"
        }
      ],
      "source": [
        "# Since training from scratch may not yield the best autoencoder model\n",
        "# We tried several time and provide the best model parameters in h5 format\n",
        "import urllib.request\n",
        "\n",
        "urllib.request.urlretrieve('https://drive.google.com/uc?id=1OIuLnoam5z8IqrT4lUm2h-CxXIRGX848&authuser=0&export=download', 'model.h5')"
      ]
    },
    {
      "cell_type": "code",
      "execution_count": null,
      "metadata": {
        "id": "jbZIuXnezlGE"
      },
      "outputs": [],
      "source": [
        "# Since training from scratch may not yield the best autoencoder model\n",
        "# We tried several time and provide the best model parameters in h5 format\n",
        "from pathlib import Path\n",
        "if Path('model.h5').exists():\n",
        "  from keras.models import load_model\n",
        "  autoencoder = load_model('model.h5')"
      ]
    },
    {
      "cell_type": "code",
      "execution_count": null,
      "metadata": {
        "colab": {
          "base_uri": "https://localhost:8080/"
        },
        "id": "oOYtqsQx48Rw",
        "outputId": "b36aa244-2b7b-4079-d1b9-9ee8b5998f00"
      },
      "outputs": [
        {
          "name": "stdout",
          "output_type": "stream",
          "text": [
            "313/313 [==============================] - 1s 1ms/step\n"
          ]
        }
      ],
      "source": [
        "if 'Label' in X_test.columns:\n",
        "  label_test = X_test['Label']\n",
        "  X_test.drop(columns='Label',inplace=True)\n",
        "output= autoencoder.predict(X_test)"
      ]
    },
    {
      "cell_type": "code",
      "execution_count": null,
      "metadata": {
        "colab": {
          "base_uri": "https://localhost:8080/"
        },
        "id": "2AD3s7uk6JcF",
        "outputId": "25260857-5746-42eb-eff4-5609f1ee9387"
      },
      "outputs": [
        {
          "data": {
            "text/plain": [
              "17347.835636037336"
            ]
          },
          "execution_count": 23,
          "metadata": {},
          "output_type": "execute_result"
        }
      ],
      "source": [
        "# 輸入與輸出相減的loss (前5000筆為anomaly)\n",
        "np.square(X_test - output).sum(axis=1)[:(test_size)].sum()"
      ]
    },
    {
      "cell_type": "code",
      "execution_count": null,
      "metadata": {
        "colab": {
          "base_uri": "https://localhost:8080/"
        },
        "id": "EY4JSK8A6Lgm",
        "outputId": "f21b0c39-79ba-4fbd-dfae-a38ed6c0e381"
      },
      "outputs": [
        {
          "data": {
            "text/plain": [
              "431.9817574875335"
            ]
          },
          "execution_count": 24,
          "metadata": {},
          "output_type": "execute_result"
        }
      ],
      "source": [
        "# 輸入與輸出相減的loss (後5000筆為normal)\n",
        "np.square(X_test - output).sum(axis=1)[(test_size):].sum()"
      ]
    },
    {
      "cell_type": "code",
      "execution_count": null,
      "metadata": {
        "id": "mEFC4f6E6sgY"
      },
      "outputs": [],
      "source": [
        "normal_error = np.square(X_test - output).sum(axis=1)[:test_size]"
      ]
    },
    {
      "cell_type": "code",
      "execution_count": null,
      "metadata": {
        "id": "XgB73IXD8FZr"
      },
      "outputs": [],
      "source": [
        "attack_error = np.square(X_test - output).sum(axis=1)[test_size:]"
      ]
    },
    {
      "cell_type": "code",
      "execution_count": null,
      "metadata": {
        "colab": {
          "base_uri": "https://localhost:8080/",
          "height": 449
        },
        "id": "LEbPCNxREF_9",
        "outputId": "e5bfd5b6-ee1a-4d0d-f244-273f78e68552"
      },
      "outputs": [
        {
          "data": {
            "image/png": "[encoded data removed]",
            "text/plain": [
              "<Figure size 640x480 with 1 Axes>"
            ]
          },
          "metadata": {},
          "output_type": "display_data"
        }
      ],
      "source": [
        "from matplotlib import pyplot\n",
        "\n",
        "bins = np.linspace(0, 10, 30)\n",
        "\n",
        "pyplot.hist(normal_error, bins, alpha=0.5, label='attack',color='red')\n",
        "pyplot.hist(attack_error, bins, alpha=0.5, label='normal',color='blue')\n",
        "pyplot.xlabel('Loss')\n",
        "pyplot.ylabel('Count')\n",
        "pyplot.vlines(1.08,0,5000)\n",
        "pyplot.legend(loc='upper right')\n",
        "pyplot.show()"
      ]
    },
    {
      "cell_type": "code",
      "execution_count": null,
      "metadata": {
        "colab": {
          "base_uri": "https://localhost:8080/"
        },
        "id": "TjABxIxgtysx",
        "outputId": "3bcff5a7-7a05-436f-8eec-cb44abddb487"
      },
      "outputs": [
        {
          "name": "stdout",
          "output_type": "stream",
          "text": [
            "[1.08, 0.9905]\n"
          ]
        }
      ],
      "source": [
        "# 尋找最適當的threshold 將normal 和 abnormal分的最開\n",
        "from sklearn.metrics import confusion_matrix\n",
        "temp = []\n",
        "for i in np.arange(0.8,2,0.01):\n",
        "  result = pd.DataFrame(normal_error)\n",
        "  result.columns = ['Predicted']\n",
        "  result['Actual'] = 0\n",
        "  result2 = pd.DataFrame(attack_error)\n",
        "  result2.columns = ['Predicted']\n",
        "  result2['Actual'] = 1\n",
        "  result_concat = pd.concat([result,result2])\n",
        "  i = round(i,2)\n",
        "  result_concat['Predicted_Result'] = result_concat['Predicted'].apply(lambda x:0 if x>i else 1)\n",
        "  predicted_result = result_concat['Predicted_Result'].to_list()\n",
        "  actual = result_concat['Actual'].to_list()\n",
        "  temp.append([i,(confusion_matrix(actual,predicted_result)[0][0] +\n",
        "              confusion_matrix(actual,predicted_result)[1][1]) /10000])\n",
        "print(max(temp,key=lambda x:x[1]))"
      ]
    },
    {
      "cell_type": "code",
      "execution_count": null,
      "metadata": {
        "id": "yOEgeNf3ELAn"
      },
      "outputs": [],
      "source": [
        "threshold = 1.08"
      ]
    },
    {
      "cell_type": "code",
      "execution_count": null,
      "metadata": {
        "id": "LcuygmALFevI"
      },
      "outputs": [],
      "source": [
        "result = pd.DataFrame(normal_error)\n",
        "result.columns = ['Predicted']\n",
        "result['Actual'] = 0"
      ]
    },
    {
      "cell_type": "code",
      "execution_count": null,
      "metadata": {
        "id": "RzbL84mnFjWC"
      },
      "outputs": [],
      "source": [
        "result2 = pd.DataFrame(attack_error)\n",
        "result2.columns = ['Predicted']\n",
        "result2['Actual'] = 1"
      ]
    },
    {
      "cell_type": "code",
      "execution_count": null,
      "metadata": {
        "id": "yKVuwqhyH1Io"
      },
      "outputs": [],
      "source": [
        "result_concat = pd.concat([result,result2])"
      ]
    },
    {
      "cell_type": "code",
      "execution_count": null,
      "metadata": {
        "id": "LTdKZPHRIryr"
      },
      "outputs": [],
      "source": [
        "result_concat['Predicted_Result'] = result_concat['Predicted'].apply(lambda x:0 if x>threshold else 1)"
      ]
    },
    {
      "cell_type": "code",
      "execution_count": null,
      "metadata": {
        "id": "VNvBw_dTIyp-"
      },
      "outputs": [],
      "source": [
        "predicted_result = result_concat['Predicted_Result'].to_list()\n",
        "actual = result_concat['Actual'].to_list()"
      ]
    },
    {
      "cell_type": "code",
      "execution_count": null,
      "metadata": {
        "colab": {
          "base_uri": "https://localhost:8080/"
        },
        "id": "E3dO-HwPJdL2",
        "outputId": "5efb0521-97fe-4086-e940-ba03f28c9583"
      },
      "outputs": [
        {
          "name": "stdout",
          "output_type": "stream",
          "text": [
            "[[4991    9]\n",
            " [  86 4914]]\n",
            "Precision : 0.9982\n",
            "Recall    : 0.9830608627142013\n",
            "Accuracy  : 0.9905\n",
            "F1-score  : 0.9905725910489234\n"
          ]
        }
      ],
      "source": [
        "cm = confusion_matrix(actual,predicted_result)\n",
        "print(cm)\n",
        "precision_autoencoder = cm[0][0] /(cm[0][0] + cm[0][1])\n",
        "recall_autoencoder = cm[0][0] /(cm[0][0] + cm[1][0])\n",
        "f1_autoencoder = (2 * precision_autoencoder * recall_autoencoder) / (precision_autoencoder + recall_autoencoder)\n",
        "\n",
        "print(f\"Precision : {precision_autoencoder}\")\n",
        "print(f\"Recall    : {recall_autoencoder}\")\n",
        "print(f\"Accuracy  : {(cm[0][0] + cm[1][1]) / (cm[0][0] + cm[0][1] + cm[1][0] + cm[1][1])}\")\n",
        "print(f\"F1-score  : {f1_autoencoder}\")"
      ]
    },
    {
      "cell_type": "code",
      "execution_count": null,
      "metadata": {
        "id": "-vMWjcG9J7S-"
      },
      "outputs": [],
      "source": [
        "# 將參數儲存留作後續使用\n",
        "#autoencoder.save('model.h5')"
      ]
    },
    {
      "cell_type": "markdown",
      "metadata": {
        "id": "ZuE_fQ57oYla"
      },
      "source": [
        "## Logistic Regression"
      ]
    },
    {
      "cell_type": "code",
      "execution_count": null,
      "metadata": {
        "id": "R5BkulwnpD18"
      },
      "outputs": [],
      "source": [
        "from sklearn.linear_model import LogisticRegression\n",
        "from sklearn.metrics import accuracy_score"
      ]
    },
    {
      "cell_type": "code",
      "execution_count": null,
      "metadata": {
        "colab": {
          "base_uri": "https://localhost:8080/"
        },
        "id": "ImLt2BH0oxmB",
        "outputId": "804c4fbe-f1d8-45a2-8488-791ac7920cb7"
      },
      "outputs": [
        {
          "data": {
            "text/plain": [
              "(140158, 107)"
            ]
          },
          "execution_count": 17,
          "metadata": {},
          "output_type": "execute_result"
        }
      ],
      "source": [
        "X_train_mldl.shape"
      ]
    },
    {
      "cell_type": "code",
      "execution_count": null,
      "metadata": {
        "id": "1TmdADLctMI8"
      },
      "outputs": [],
      "source": [
        "# 建立Logistic Regression模型\n",
        "model_logistic_regreesion = LogisticRegression()"
      ]
    },
    {
      "cell_type": "code",
      "execution_count": null,
      "metadata": {
        "colab": {
          "base_uri": "https://localhost:8080/",
          "height": 213
        },
        "id": "MJvJ-n6jtMLM",
        "outputId": "24bbcb32-9e13-49c2-9664-588c1ded3f2a"
      },
      "outputs": [
        {
          "name": "stderr",
          "output_type": "stream",
          "text": [
            "/usr/local/lib/python3.10/dist-packages/sklearn/linear_model/_logistic.py:458: ConvergenceWarning: lbfgs failed to converge (status=1):\n",
            "STOP: TOTAL NO. of ITERATIONS REACHED LIMIT.\n",
            "\n",
            "Increase the number of iterations (max_iter) or scale the data as shown in:\n",
            "    https://scikit-learn.org/stable/modules/preprocessing.html\n",
            "Please also refer to the documentation for alternative solver options:\n",
            "    https://scikit-learn.org/stable/modules/linear_model.html#logistic-regression\n",
            "  n_iter_i = _check_optimize_result(\n"
          ]
        },
        {
          "data": {
            "text/html": [
              "<style>#sk-container-id-1 {color: black;background-color: white;}#sk-container-id-1 pre{padding: 0;}#sk-container-id-1 div.sk-toggleable {background-color: white;}#sk-container-id-1 label.sk-toggleable__label {cursor: pointer;display: block;width: 100%;margin-bottom: 0;padding: 0.3em;box-sizing: border-box;text-align: center;}#sk-container-id-1 label.sk-toggleable__label-arrow:before {content: \"▸\";float: left;margin-right: 0.25em;color: #696969;}#sk-container-id-1 label.sk-toggleable__label-arrow:hover:before {color: black;}#sk-container-id-1 div.sk-estimator:hover label.sk-toggleable__label-arrow:before {color: black;}#sk-container-id-1 div.sk-toggleable__content {max-height: 0;max-width: 0;overflow: hidden;text-align: left;background-color: #f0f8ff;}#sk-container-id-1 div.sk-toggleable__content pre {margin: 0.2em;color: black;border-radius: 0.25em;background-color: #f0f8ff;}#sk-container-id-1 input.sk-toggleable__control:checked~div.sk-toggleable__content {max-height: 200px;max-width: 100%;overflow: auto;}#sk-container-id-1 input.sk-toggleable__control:checked~label.sk-toggleable__label-arrow:before {content: \"▾\";}#sk-container-id-1 div.sk-estimator input.sk-toggleable__control:checked~label.sk-toggleable__label {background-color: #d4ebff;}#sk-container-id-1 div.sk-label input.sk-toggleable__control:checked~label.sk-toggleable__label {background-color: #d4ebff;}#sk-container-id-1 input.sk-hidden--visually {border: 0;clip: rect(1px 1px 1px 1px);clip: rect(1px, 1px, 1px, 1px);height: 1px;margin: -1px;overflow: hidden;padding: 0;position: absolute;width: 1px;}#sk-container-id-1 div.sk-estimator {font-family: monospace;background-color: #f0f8ff;border: 1px dotted black;border-radius: 0.25em;box-sizing: border-box;margin-bottom: 0.5em;}#sk-container-id-1 div.sk-estimator:hover {background-color: #d4ebff;}#sk-container-id-1 div.sk-parallel-item::after {content: \"\";width: 100%;border-bottom: 1px solid gray;flex-grow: 1;}#sk-container-id-1 div.sk-label:hover label.sk-toggleable__label {background-color: #d4ebff;}#sk-container-id-1 div.sk-serial::before {content: \"\";position: absolute;border-left: 1px solid gray;box-sizing: border-box;top: 0;bottom: 0;left: 50%;z-index: 0;}#sk-container-id-1 div.sk-serial {display: flex;flex-direction: column;align-items: center;background-color: white;padding-right: 0.2em;padding-left: 0.2em;position: relative;}#sk-container-id-1 div.sk-item {position: relative;z-index: 1;}#sk-container-id-1 div.sk-parallel {display: flex;align-items: stretch;justify-content: center;background-color: white;position: relative;}#sk-container-id-1 div.sk-item::before, #sk-container-id-1 div.sk-parallel-item::before {content: \"\";position: absolute;border-left: 1px solid gray;box-sizing: border-box;top: 0;bottom: 0;left: 50%;z-index: -1;}#sk-container-id-1 div.sk-parallel-item {display: flex;flex-direction: column;z-index: 1;position: relative;background-color: white;}#sk-container-id-1 div.sk-parallel-item:first-child::after {align-self: flex-end;width: 50%;}#sk-container-id-1 div.sk-parallel-item:last-child::after {align-self: flex-start;width: 50%;}#sk-container-id-1 div.sk-parallel-item:only-child::after {width: 0;}#sk-container-id-1 div.sk-dashed-wrapped {border: 1px dashed gray;margin: 0 0.4em 0.5em 0.4em;box-sizing: border-box;padding-bottom: 0.4em;background-color: white;}#sk-container-id-1 div.sk-label label {font-family: monospace;font-weight: bold;display: inline-block;line-height: 1.2em;}#sk-container-id-1 div.sk-label-container {text-align: center;}#sk-container-id-1 div.sk-container {/* jupyter's `normalize.less` sets `[hidden] { display: none; }` but bootstrap.min.css set `[hidden] { display: none !important; }` so we also need the `!important` here to be able to override the default hidden behavior on the sphinx rendered scikit-learn.org. See: https://github.com/scikit-learn/scikit-learn/issues/21755 */display: inline-block !important;position: relative;}#sk-container-id-1 div.sk-text-repr-fallback {display: none;}</style><div id=\"sk-container-id-1\" class=\"sk-top-container\"><div class=\"sk-text-repr-fallback\"><pre>LogisticRegression()</pre><b>In a Jupyter environment, please rerun this cell to show the HTML representation or trust the notebook. <br />On GitHub, the HTML representation is unable to render, please try loading this page with nbviewer.org.</b></div><div class=\"sk-container\" hidden><div class=\"sk-item\"><div class=\"sk-estimator sk-toggleable\"><input class=\"sk-toggleable__control sk-hidden--visually\" id=\"sk-estimator-id-1\" type=\"checkbox\" checked><label for=\"sk-estimator-id-1\" class=\"sk-toggleable__label sk-toggleable__label-arrow\">LogisticRegression</label><div class=\"sk-toggleable__content\"><pre>LogisticRegression()</pre></div></div></div></div></div>"
            ],
            "text/plain": [
              "LogisticRegression()"
            ]
          },
          "execution_count": 19,
          "metadata": {},
          "output_type": "execute_result"
        }
      ],
      "source": [
        "# 在訓練集上訓練模型\n",
        "model_logistic_regreesion.fit(X_train_mldl, Y_train_mldl)"
      ]
    },
    {
      "cell_type": "code",
      "execution_count": null,
      "metadata": {
        "id": "HGIzSBzWtMNV"
      },
      "outputs": [],
      "source": [
        "# 在測試集上進行預測\n",
        "y_predict = model_logistic_regreesion.predict(X_test)"
      ]
    },
    {
      "cell_type": "code",
      "execution_count": null,
      "metadata": {
        "colab": {
          "base_uri": "https://localhost:8080/"
        },
        "id": "9LtZ6tNZVask",
        "outputId": "7557a77b-1df0-42eb-b651-6423d6ce8e66"
      },
      "outputs": [
        {
          "name": "stdout",
          "output_type": "stream",
          "text": [
            "[[4975   25]\n",
            " [   3 4997]]\n",
            "Precision : 0.995\n",
            "Recall    : 0.9993973483326637\n",
            "Accuracy  : 0.9972\n",
            "F1-score  : 0.9971938264181198\n"
          ]
        }
      ],
      "source": [
        "# 評估模型\n",
        "from sklearn.metrics import confusion_matrix\n",
        "\n",
        "cm_logistic_regression = confusion_matrix(Y_test.values, y_predict)\n",
        "print(cm_logistic_regression)\n",
        "precision_logistic_regression = cm_logistic_regression[0][0] /(cm_logistic_regression[0][0] + cm_logistic_regression[0][1])\n",
        "recall_logistic_regression = cm_logistic_regression[0][0] /(cm_logistic_regression[0][0] + cm_logistic_regression[1][0])\n",
        "f1_logistic_regression = (2 * precision_logistic_regression * recall_logistic_regression) / (precision_logistic_regression + recall_logistic_regression)\n",
        "\n",
        "print(f\"Precision : {precision_logistic_regression}\")\n",
        "print(f\"Recall    : {recall_logistic_regression}\")\n",
        "print(f\"Accuracy  : {(cm_logistic_regression[0][0] + cm_logistic_regression[1][1]) / (cm_logistic_regression[0][0] + cm_logistic_regression[0][1] + cm_logistic_regression[1][0] + cm_logistic_regression[1][1])}\")\n",
        "print(f\"F1-score  : {f1_logistic_regression}\")"
      ]
    },
    {
      "cell_type": "code",
      "execution_count": null,
      "metadata": {
        "colab": {
          "base_uri": "https://localhost:8080/"
        },
        "id": "XbYSBRShuExt",
        "outputId": "23e54aa4-cfff-487d-ca3a-aba5651dcdfa"
      },
      "outputs": [
        {
          "name": "stdout",
          "output_type": "stream",
          "text": [
            "Intercept is  [0.91859094]\n",
            "coefficients  is  [[-3.87158346e-01 -9.95111528e-01  1.30152246e+00 -2.95592157e-01\n",
            "   1.94374499e-01  2.71333968e-01  1.08794855e-01  2.70600613e-01\n",
            "  -7.16438986e-01 -5.49879452e-01  2.36385445e-01  6.20414871e-01\n",
            "   7.32569349e-01  1.88391334e-01  6.20414871e-01  1.39012628e-03\n",
            "  -8.06622703e-03  2.02162407e-01  2.72659654e-01  1.03449542e-01\n",
            "   1.21104996e-01 -1.01101412e+00  1.17017575e+00  5.33238294e-01\n",
            "   6.00045767e-02  6.35853756e-01  1.17782360e-01  2.07004605e-01\n",
            "  -6.25117047e+00 -1.98289769e+00 -2.27124045e-01 -2.16717473e-01\n",
            "  -1.37604130e+00 -4.87277688e-02  8.06267167e-03  7.86486555e-01\n",
            "  -2.54659128e+00  5.55738114e-01  2.03770613e-01  2.48551495e-01\n",
            "   5.87663547e-04 -6.07362773e-01  5.08460324e-01  4.37662429e-01\n",
            "   5.43364085e-01  7.90805267e-01 -4.80771261e-01 -3.90774837e-01\n",
            "   7.86486555e-01 -1.13501319e+00  5.57963714e-01  1.69121456e-01\n",
            "  -1.03393253e+00 -2.66795690e-01 -5.91753532e-01  1.17685487e-01\n",
            "   4.35120353e-01  5.78329717e-01  8.91754316e-01 -4.43431022e-01\n",
            "  -1.33843585e+00  2.12346512e-01  1.68268733e+00 -9.09358291e-01\n",
            "   2.29944900e+00 -8.78917083e-01 -2.55638356e-01 -4.05636793e-01\n",
            "  -1.76072798e-01  2.54182179e-01 -8.10029993e-01 -1.83469614e+00\n",
            "  -5.05988984e+00 -2.24035670e-01  4.70987648e+00 -3.80922692e-01\n",
            "  -1.26226163e-01 -7.27532142e-01  4.51736509e+00  2.54182179e-01\n",
            "  -8.10029993e-01 -2.33462361e-01 -1.60123378e+00 -1.53445468e+00\n",
            "  -3.52543516e+00 -2.10984273e-01  2.95746872e+00  1.74783803e+00\n",
            "  -5.07148854e-01 -1.07672323e-04 -7.27424469e-01  2.46036548e+00\n",
            "   1.83631898e+00 -1.97472704e+00 -1.60318751e-01  5.07377747e-02\n",
            "   9.69704884e-02 -4.17818246e-02  1.99963112e-01 -3.32959653e-02\n",
            "  -9.06569046e-05  1.22174107e+00 -1.99503938e-01  2.60448837e-01\n",
            "   6.07716322e-02  3.88933628e-02  5.44799055e-01]]\n"
          ]
        }
      ],
      "source": [
        "# print the intercept and coefficients\n",
        "print('Intercept is ', model_logistic_regreesion.intercept_)\n",
        "print('coefficients  is ', model_logistic_regreesion.coef_)"
      ]
    },
    {
      "cell_type": "code",
      "execution_count": null,
      "metadata": {
        "colab": {
          "base_uri": "https://localhost:8080/"
        },
        "id": "3s7VajAbuEz8",
        "outputId": "7d80fd8b-27f0-407e-b6af-c404cd39c9b1"
      },
      "outputs": [
        {
          "name": "stdout",
          "output_type": "stream",
          "text": [
            "label = \n",
            " -0.387158345788914 * L4_SRC_PORT\n",
            " -0.9951115279752712 * L4_DST_PORT\n",
            " +1.301522459739891 * PROTOCOL\n",
            " -0.2955921568497237 * L7_PROTO\n",
            " +0.19437449903487336 * IN_BYTES\n",
            " +0.2713339684360103 * IN_PKTS\n",
            " +0.1087948547966906 * OUT_BYTES\n",
            " +0.27060061279533504 * OUT_PKTS\n",
            " -0.7164389856524412 * FLOW_DURATION_MILLISECONDS\n",
            " -0.5498794521856769 * DURATION_IN\n",
            " +0.2363854447656072 * DURATION_OUT\n",
            " +0.6204148707594973 * LONGEST_FLOW_PKT\n",
            " +0.732569349331126 * SHORTEST_FLOW_PKT\n",
            " +0.18839133449178008 * MIN_IP_PKT_LEN\n",
            " +0.6204148707594973 * MAX_IP_PKT_LEN\n",
            " +0.0013901262819893774 * SRC_TO_DST_SECOND_BYTES\n",
            " -0.008066227029363927 * DST_TO_SRC_SECOND_BYTES\n",
            " +0.20216240734438892 * RETRANSMITTED_IN_BYTES\n",
            " +0.2726596541803465 * RETRANSMITTED_IN_PKTS\n",
            " +0.10344954229729157 * RETRANSMITTED_OUT_BYTES\n",
            " +0.1211049963462521 * RETRANSMITTED_OUT_PKTS\n",
            " -1.0110141231266037 * SRC_TO_DST_AVG_THROUGHPUT\n",
            " +1.1701757488446631 * DST_TO_SRC_AVG_THROUGHPUT\n",
            " +0.533238294410143 * NUM_PKTS_UP_TO_128_BYTES\n",
            " +0.06000457668822584 * NUM_PKTS_128_TO_256_BYTES\n",
            " +0.6358537557762559 * NUM_PKTS_256_TO_512_BYTES\n",
            " +0.11778235952977455 * NUM_PKTS_512_TO_1024_BYTES\n",
            " +0.20700460527000453 * NUM_PKTS_1024_TO_1514_BYTES\n",
            " -6.251170468206101 * TCP_WIN_MAX_IN\n",
            " -1.9828976912640315 * TCP_WIN_MAX_OUT\n",
            " -0.2271240453347464 * ICMP_TYPE\n",
            " -0.2167174733659337 * ICMP_IPV4_TYPE\n",
            " -1.376041304455998 * DNS_QUERY_ID\n",
            " -0.04872776879514249 * DNS_QUERY_TYPE\n",
            " +0.008062671670819126 * DNS_TTL_ANSWER\n",
            " +0.7864865547851628 * TCP_FLAGS__0\n",
            " -2.5465912766808576 * TCP_FLAGS__2\n",
            " +0.5557381137630065 * TCP_FLAGS__16\n",
            " +0.2037706127472573 * TCP_FLAGS__17\n",
            " +0.24855149523901077 * TCP_FLAGS__18\n",
            " +0.0005876635474379582 * TCP_FLAGS__19\n",
            " -0.6073627727790484 * TCP_FLAGS__20\n",
            " +0.5084603242626077 * TCP_FLAGS__22\n",
            " +0.43766242857498183 * TCP_FLAGS__24\n",
            " +0.5433640850075758 * TCP_FLAGS__25\n",
            " +0.7908052665051136 * TCP_FLAGS__26\n",
            " -0.48077126143028553 * TCP_FLAGS__27\n",
            " -0.3907748369139795 * TCP_FLAGS__30\n",
            " +0.7864865547851628 * CLIENT_TCP_FLAGS__0\n",
            " -1.1350131910108545 * CLIENT_TCP_FLAGS__2\n",
            " +0.5579637140038259 * CLIENT_TCP_FLAGS__16\n",
            " +0.16912145642563411 * CLIENT_TCP_FLAGS__17\n",
            " -1.0339325258984882 * CLIENT_TCP_FLAGS__18\n",
            " -0.2667956897767797 * CLIENT_TCP_FLAGS__19\n",
            " -0.5917535323353026 * CLIENT_TCP_FLAGS__20\n",
            " +0.11768548734862314 * CLIENT_TCP_FLAGS__22\n",
            " +0.4351203527153037 * CLIENT_TCP_FLAGS__24\n",
            " +0.5783297169480554 * CLIENT_TCP_FLAGS__25\n",
            " +0.8917543159723712 * CLIENT_TCP_FLAGS__26\n",
            " -0.4434310221056757 * CLIENT_TCP_FLAGS__27\n",
            " -1.338435851896276 * SERVER_TCP_FLAGS__0\n",
            " +0.21234651212747924 * SERVER_TCP_FLAGS__16\n",
            " +1.6826873323124865 * SERVER_TCP_FLAGS__17\n",
            " -0.9093582910658048 * SERVER_TCP_FLAGS__18\n",
            " +2.2994490001062298 * SERVER_TCP_FLAGS__19\n",
            " -0.8789170826959932 * SERVER_TCP_FLAGS__24\n",
            " -0.2556383562730613 * SERVER_TCP_FLAGS__25\n",
            " -0.4056367928266379 * SERVER_TCP_FLAGS__26\n",
            " -0.17607279760167657 * SERVER_TCP_FLAGS__27\n",
            " +0.25418217869634124 * MIN_TTL__0\n",
            " -0.8100299934484121 * MIN_TTL__1\n",
            " -1.834696143664976 * MIN_TTL__29\n",
            " -5.059889840872021 * MIN_TTL__31\n",
            " -0.2240356699054407 * MIN_TTL__60\n",
            " +4.709876478124139 * MIN_TTL__62\n",
            " -0.3809226916160263 * MIN_TTL__63\n",
            " -0.12622616257869607 * MIN_TTL__64\n",
            " -0.7275321415419334 * MIN_TTL__252\n",
            " +4.517365087422853 * MIN_TTL__254\n",
            " +0.25418217869633886 * MAX_TTL__0\n",
            " -0.8100299934484121 * MAX_TTL__1\n",
            " -0.23346236122716799 * MAX_TTL__29\n",
            " -1.6012337824378051 * MAX_TTL__30\n",
            " -1.534454678179768 * MAX_TTL__31\n",
            " -3.5254351626921996 * MAX_TTL__32\n",
            " -0.21098427287972904 * MAX_TTL__61\n",
            " +2.9574687164904403 * MAX_TTL__62\n",
            " +1.7478380315793773 * MAX_TTL__63\n",
            " -0.5071488541947226 * MAX_TTL__64\n",
            " -0.00010767232320532602 * MAX_TTL__252\n",
            " -0.7274244692187277 * MAX_TTL__253\n",
            " +2.460365478621373 * MAX_TTL__254\n",
            " +1.8363189805646867 * MAX_TTL__255\n",
            " -1.974727039438415 * FTP_COMMAND_RET_CODE__0.0\n",
            " -0.1603187507235605 * FTP_COMMAND_RET_CODE__125.0\n",
            " +0.05073777467878811 * FTP_COMMAND_RET_CODE__150.0\n",
            " +0.09697048839349191 * FTP_COMMAND_RET_CODE__200.0\n",
            " -0.04178182461657354 * FTP_COMMAND_RET_CODE__213.0\n",
            " +0.19996311193921282 * FTP_COMMAND_RET_CODE__220.0\n",
            " -0.03329596526812528 * FTP_COMMAND_RET_CODE__221.0\n",
            " -9.06569046342408e-05 * FTP_COMMAND_RET_CODE__226.0\n",
            " +1.2217410684221732 * FTP_COMMAND_RET_CODE__227.0\n",
            " -0.1995039381659186 * FTP_COMMAND_RET_CODE__229.0\n",
            " +0.26044883715730177 * FTP_COMMAND_RET_CODE__230.0\n",
            " +0.06077163219790756 * FTP_COMMAND_RET_CODE__250.0\n",
            " +0.038893362775817376 * FTP_COMMAND_RET_CODE__257.0\n",
            " +0.5447990549292008 * FTP_COMMAND_RET_CODE__331.0\n",
            " 0.918590941262552\n"
          ]
        }
      ],
      "source": [
        "# print with feature name\n",
        "print('label = ')\n",
        "for c,f in zip(model_logistic_regreesion.coef_[0], X_train_mldl.columns):\n",
        "  print(' {0:+} * {1}'.format(c, f))\n",
        "print('', model_logistic_regreesion.intercept_[0])"
      ]
    },
    {
      "cell_type": "markdown",
      "metadata": {
        "id": "MYaXaYyjrlnU"
      },
      "source": [
        "## Decision Tree"
      ]
    },
    {
      "cell_type": "code",
      "execution_count": null,
      "metadata": {
        "id": "FxVyBcEErlpk"
      },
      "outputs": [],
      "source": [
        "from sklearn import tree\n",
        "from sklearn.tree import DecisionTreeClassifier\n",
        "from sklearn.metrics import accuracy_score"
      ]
    },
    {
      "cell_type": "code",
      "execution_count": null,
      "metadata": {
        "colab": {
          "base_uri": "https://localhost:8080/"
        },
        "id": "wStXDRKEpFlt",
        "outputId": "47c50a4e-b29f-497b-e20e-293872da261b"
      },
      "outputs": [
        {
          "data": {
            "text/plain": [
              "(140158, 107)"
            ]
          },
          "execution_count": 25,
          "metadata": {},
          "output_type": "execute_result"
        }
      ],
      "source": [
        "X_train_mldl.shape"
      ]
    },
    {
      "cell_type": "code",
      "execution_count": null,
      "metadata": {
        "id": "dwZgho8wdGYb"
      },
      "outputs": [],
      "source": [
        "# 建立決策樹模型\n",
        "model_decision_tree = DecisionTreeClassifier(max_depth=3)"
      ]
    },
    {
      "cell_type": "code",
      "execution_count": null,
      "metadata": {
        "colab": {
          "base_uri": "https://localhost:8080/"
        },
        "id": "Q3i1TGj2dGa7",
        "outputId": "95fd8653-4797-409c-9232-ce4dfca519b8"
      },
      "outputs": [
        {
          "data": {
            "text/html": [
              "<style>#sk-container-id-2 {color: black;background-color: white;}#sk-container-id-2 pre{padding: 0;}#sk-container-id-2 div.sk-toggleable {background-color: white;}#sk-container-id-2 label.sk-toggleable__label {cursor: pointer;display: block;width: 100%;margin-bottom: 0;padding: 0.3em;box-sizing: border-box;text-align: center;}#sk-container-id-2 label.sk-toggleable__label-arrow:before {content: \"▸\";float: left;margin-right: 0.25em;color: #696969;}#sk-container-id-2 label.sk-toggleable__label-arrow:hover:before {color: black;}#sk-container-id-2 div.sk-estimator:hover label.sk-toggleable__label-arrow:before {color: black;}#sk-container-id-2 div.sk-toggleable__content {max-height: 0;max-width: 0;overflow: hidden;text-align: left;background-color: #f0f8ff;}#sk-container-id-2 div.sk-toggleable__content pre {margin: 0.2em;color: black;border-radius: 0.25em;background-color: #f0f8ff;}#sk-container-id-2 input.sk-toggleable__control:checked~div.sk-toggleable__content {max-height: 200px;max-width: 100%;overflow: auto;}#sk-container-id-2 input.sk-toggleable__control:checked~label.sk-toggleable__label-arrow:before {content: \"▾\";}#sk-container-id-2 div.sk-estimator input.sk-toggleable__control:checked~label.sk-toggleable__label {background-color: #d4ebff;}#sk-container-id-2 div.sk-label input.sk-toggleable__control:checked~label.sk-toggleable__label {background-color: #d4ebff;}#sk-container-id-2 input.sk-hidden--visually {border: 0;clip: rect(1px 1px 1px 1px);clip: rect(1px, 1px, 1px, 1px);height: 1px;margin: -1px;overflow: hidden;padding: 0;position: absolute;width: 1px;}#sk-container-id-2 div.sk-estimator {font-family: monospace;background-color: #f0f8ff;border: 1px dotted black;border-radius: 0.25em;box-sizing: border-box;margin-bottom: 0.5em;}#sk-container-id-2 div.sk-estimator:hover {background-color: #d4ebff;}#sk-container-id-2 div.sk-parallel-item::after {content: \"\";width: 100%;border-bottom: 1px solid gray;flex-grow: 1;}#sk-container-id-2 div.sk-label:hover label.sk-toggleable__label {background-color: #d4ebff;}#sk-container-id-2 div.sk-serial::before {content: \"\";position: absolute;border-left: 1px solid gray;box-sizing: border-box;top: 0;bottom: 0;left: 50%;z-index: 0;}#sk-container-id-2 div.sk-serial {display: flex;flex-direction: column;align-items: center;background-color: white;padding-right: 0.2em;padding-left: 0.2em;position: relative;}#sk-container-id-2 div.sk-item {position: relative;z-index: 1;}#sk-container-id-2 div.sk-parallel {display: flex;align-items: stretch;justify-content: center;background-color: white;position: relative;}#sk-container-id-2 div.sk-item::before, #sk-container-id-2 div.sk-parallel-item::before {content: \"\";position: absolute;border-left: 1px solid gray;box-sizing: border-box;top: 0;bottom: 0;left: 50%;z-index: -1;}#sk-container-id-2 div.sk-parallel-item {display: flex;flex-direction: column;z-index: 1;position: relative;background-color: white;}#sk-container-id-2 div.sk-parallel-item:first-child::after {align-self: flex-end;width: 50%;}#sk-container-id-2 div.sk-parallel-item:last-child::after {align-self: flex-start;width: 50%;}#sk-container-id-2 div.sk-parallel-item:only-child::after {width: 0;}#sk-container-id-2 div.sk-dashed-wrapped {border: 1px dashed gray;margin: 0 0.4em 0.5em 0.4em;box-sizing: border-box;padding-bottom: 0.4em;background-color: white;}#sk-container-id-2 div.sk-label label {font-family: monospace;font-weight: bold;display: inline-block;line-height: 1.2em;}#sk-container-id-2 div.sk-label-container {text-align: center;}#sk-container-id-2 div.sk-container {/* jupyter's `normalize.less` sets `[hidden] { display: none; }` but bootstrap.min.css set `[hidden] { display: none !important; }` so we also need the `!important` here to be able to override the default hidden behavior on the sphinx rendered scikit-learn.org. See: https://github.com/scikit-learn/scikit-learn/issues/21755 */display: inline-block !important;position: relative;}#sk-container-id-2 div.sk-text-repr-fallback {display: none;}</style><div id=\"sk-container-id-2\" class=\"sk-top-container\"><div class=\"sk-text-repr-fallback\"><pre>DecisionTreeClassifier(max_depth=3)</pre><b>In a Jupyter environment, please rerun this cell to show the HTML representation or trust the notebook. <br />On GitHub, the HTML representation is unable to render, please try loading this page with nbviewer.org.</b></div><div class=\"sk-container\" hidden><div class=\"sk-item\"><div class=\"sk-estimator sk-toggleable\"><input class=\"sk-toggleable__control sk-hidden--visually\" id=\"sk-estimator-id-2\" type=\"checkbox\" checked><label for=\"sk-estimator-id-2\" class=\"sk-toggleable__label sk-toggleable__label-arrow\">DecisionTreeClassifier</label><div class=\"sk-toggleable__content\"><pre>DecisionTreeClassifier(max_depth=3)</pre></div></div></div></div></div>"
            ],
            "text/plain": [
              "DecisionTreeClassifier(max_depth=3)"
            ]
          },
          "execution_count": 27,
          "metadata": {},
          "output_type": "execute_result"
        }
      ],
      "source": [
        "# 在訓練集上訓練模型\n",
        "model_decision_tree.fit(X_train_mldl, Y_train_mldl)"
      ]
    },
    {
      "cell_type": "code",
      "execution_count": null,
      "metadata": {
        "id": "dT2kOAiqi-yk"
      },
      "outputs": [],
      "source": [
        "# 在測試集上進行預測\n",
        "y_predict = model_decision_tree.predict(X_test)"
      ]
    },
    {
      "cell_type": "code",
      "execution_count": null,
      "metadata": {
        "colab": {
          "base_uri": "https://localhost:8080/"
        },
        "id": "iS50JTLpXLg9",
        "outputId": "d62f5ff9-1c3c-4c2a-c1c1-b57a61c4ee66"
      },
      "outputs": [
        {
          "name": "stdout",
          "output_type": "stream",
          "text": [
            "[[4968   32]\n",
            " [   0 5000]]\n",
            "Precision : 0.9936\n",
            "Recall    : 1.0\n",
            "Accuracy  : 0.9968\n",
            "F1-score  : 0.9967897271268058\n"
          ]
        }
      ],
      "source": [
        "# 評估模型\n",
        "from sklearn.metrics import confusion_matrix\n",
        "\n",
        "cm_decision_tree = confusion_matrix(Y_test.values, y_predict)\n",
        "print(cm_decision_tree)\n",
        "precision_decision_tree = cm_decision_tree[0][0] /(cm_decision_tree[0][0] + cm_decision_tree[0][1])\n",
        "recall_decision_tree = cm_decision_tree[0][0] /(cm_decision_tree[0][0] + cm_decision_tree[1][0])\n",
        "f1_decision_tree = (2 * precision_decision_tree * recall_decision_tree) / (precision_decision_tree + recall_decision_tree)\n",
        "\n",
        "print(f\"Precision : {precision_decision_tree}\")\n",
        "print(f\"Recall    : {recall_decision_tree}\")\n",
        "print(f\"Accuracy  : {(cm_decision_tree[0][0] + cm_decision_tree[1][1]) / (cm_decision_tree[0][0] + cm_decision_tree[0][1] + cm_decision_tree[1][0] + cm_decision_tree[1][1])}\")\n",
        "print(f\"F1-score  : {f1_decision_tree}\")"
      ]
    },
    {
      "cell_type": "code",
      "execution_count": null,
      "metadata": {
        "colab": {
          "base_uri": "https://localhost:8080/"
        },
        "id": "r7cWxdCtqTOt",
        "outputId": "2f18d155-9de0-4889-ba27-c1cbfbcbbb70"
      },
      "outputs": [
        {
          "name": "stdout",
          "output_type": "stream",
          "text": [
            "Importances:  [0.00000000e+00 0.00000000e+00 0.00000000e+00 0.00000000e+00\n",
            " 0.00000000e+00 0.00000000e+00 0.00000000e+00 0.00000000e+00\n",
            " 0.00000000e+00 0.00000000e+00 0.00000000e+00 0.00000000e+00\n",
            " 0.00000000e+00 0.00000000e+00 0.00000000e+00 0.00000000e+00\n",
            " 0.00000000e+00 0.00000000e+00 0.00000000e+00 0.00000000e+00\n",
            " 0.00000000e+00 0.00000000e+00 0.00000000e+00 0.00000000e+00\n",
            " 0.00000000e+00 0.00000000e+00 0.00000000e+00 0.00000000e+00\n",
            " 8.60592912e-03 0.00000000e+00 0.00000000e+00 0.00000000e+00\n",
            " 0.00000000e+00 0.00000000e+00 0.00000000e+00 0.00000000e+00\n",
            " 0.00000000e+00 0.00000000e+00 0.00000000e+00 0.00000000e+00\n",
            " 0.00000000e+00 0.00000000e+00 9.93817717e-05 0.00000000e+00\n",
            " 0.00000000e+00 0.00000000e+00 0.00000000e+00 0.00000000e+00\n",
            " 0.00000000e+00 0.00000000e+00 0.00000000e+00 0.00000000e+00\n",
            " 0.00000000e+00 0.00000000e+00 0.00000000e+00 0.00000000e+00\n",
            " 0.00000000e+00 0.00000000e+00 0.00000000e+00 0.00000000e+00\n",
            " 0.00000000e+00 0.00000000e+00 0.00000000e+00 0.00000000e+00\n",
            " 0.00000000e+00 0.00000000e+00 0.00000000e+00 0.00000000e+00\n",
            " 0.00000000e+00 0.00000000e+00 0.00000000e+00 4.07370374e-03\n",
            " 9.87220985e-01 0.00000000e+00 0.00000000e+00 0.00000000e+00\n",
            " 0.00000000e+00 0.00000000e+00 0.00000000e+00 0.00000000e+00\n",
            " 0.00000000e+00 0.00000000e+00 0.00000000e+00 0.00000000e+00\n",
            " 0.00000000e+00 0.00000000e+00 0.00000000e+00 0.00000000e+00\n",
            " 0.00000000e+00 0.00000000e+00 0.00000000e+00 0.00000000e+00\n",
            " 0.00000000e+00 0.00000000e+00 0.00000000e+00 0.00000000e+00\n",
            " 0.00000000e+00 0.00000000e+00 0.00000000e+00 0.00000000e+00\n",
            " 0.00000000e+00 0.00000000e+00 0.00000000e+00 0.00000000e+00\n",
            " 0.00000000e+00 0.00000000e+00 0.00000000e+00]\n"
          ]
        }
      ],
      "source": [
        "# 顯示特徵的重要程度\n",
        "print('Importances: ', model_decision_tree.feature_importances_)"
      ]
    },
    {
      "cell_type": "code",
      "execution_count": null,
      "metadata": {
        "colab": {
          "base_uri": "https://localhost:8080/"
        },
        "id": "wkJmQUYndGfC",
        "outputId": "493fd929-b94d-4664-a51d-8fe390b98dc0"
      },
      "outputs": [
        {
          "data": {
            "image/png": "[encoded data removed]",
            "text/plain": [
              "<Figure size 1600x800 with 1 Axes>"
            ]
          },
          "metadata": {},
          "output_type": "display_data"
        }
      ],
      "source": [
        "# using tree to show decisions\n",
        "plt.figure(figsize = (16, 8))\n",
        "tree.plot_tree(model_decision_tree, feature_names=X_test.columns, class_names=['Benign','Malicious'])\n",
        "plt.show()"
      ]
    },
    {
      "cell_type": "code",
      "execution_count": null,
      "metadata": {
        "colab": {
          "base_uri": "https://localhost:8080/"
        },
        "id": "6ABTX-OldGg1",
        "outputId": "774263bf-a1ac-4de1-af85-5f63ee1889dc"
      },
      "outputs": [
        {
          "name": "stdout",
          "output_type": "stream",
          "text": [
            "|--- feature_72 <= 0.50\n",
            "|   |--- feature_28 <= 0.25\n",
            "|   |   |--- feature_71 <= 0.50\n",
            "|   |   |   |--- class: 1\n",
            "|   |   |--- feature_71 >  0.50\n",
            "|   |   |   |--- class: 0\n",
            "|   |--- feature_28 >  0.25\n",
            "|   |   |--- feature_42 <= 0.50\n",
            "|   |   |   |--- class: 0\n",
            "|   |   |--- feature_42 >  0.50\n",
            "|   |   |   |--- class: 0\n",
            "|--- feature_72 >  0.50\n",
            "|   |--- class: 0\n",
            "\n"
          ]
        }
      ],
      "source": [
        "# using text to show decisions\n",
        "r = tree.export_text(model_decision_tree)\n",
        "print(r)"
      ]
    },
    {
      "cell_type": "markdown",
      "metadata": {
        "id": "4G6gibsJoYnr"
      },
      "source": [
        "## Random Forest"
      ]
    },
    {
      "cell_type": "code",
      "execution_count": null,
      "metadata": {
        "id": "nBhskPO1oYpz"
      },
      "outputs": [],
      "source": [
        "from sklearn.ensemble import RandomForestClassifier\n",
        "from sklearn.metrics import accuracy_score"
      ]
    },
    {
      "cell_type": "code",
      "execution_count": null,
      "metadata": {
        "colab": {
          "base_uri": "https://localhost:8080/"
        },
        "id": "RcH1mmOVpG2e",
        "outputId": "8fb46e9e-7506-4677-f930-8585ade9ac6e"
      },
      "outputs": [
        {
          "data": {
            "text/plain": [
              "(140158, 107)"
            ]
          },
          "execution_count": 34,
          "metadata": {},
          "output_type": "execute_result"
        }
      ],
      "source": [
        "X_train_mldl.shape"
      ]
    },
    {
      "cell_type": "code",
      "execution_count": null,
      "metadata": {
        "id": "t74k8iB_lAwD"
      },
      "outputs": [],
      "source": [
        "# 建立隨機森林模型\n",
        "model_random_forest = RandomForestClassifier(max_depth = 3)"
      ]
    },
    {
      "cell_type": "code",
      "execution_count": null,
      "metadata": {
        "colab": {
          "base_uri": "https://localhost:8080/",
          "height": 74
        },
        "id": "Qz0IIvOKlAyL",
        "outputId": "5daae00f-dbb9-4333-ce8c-b6dca3bfaef4"
      },
      "outputs": [
        {
          "data": {
            "text/html": [
              "<style>#sk-container-id-3 {color: black;background-color: white;}#sk-container-id-3 pre{padding: 0;}#sk-container-id-3 div.sk-toggleable {background-color: white;}#sk-container-id-3 label.sk-toggleable__label {cursor: pointer;display: block;width: 100%;margin-bottom: 0;padding: 0.3em;box-sizing: border-box;text-align: center;}#sk-container-id-3 label.sk-toggleable__label-arrow:before {content: \"▸\";float: left;margin-right: 0.25em;color: #696969;}#sk-container-id-3 label.sk-toggleable__label-arrow:hover:before {color: black;}#sk-container-id-3 div.sk-estimator:hover label.sk-toggleable__label-arrow:before {color: black;}#sk-container-id-3 div.sk-toggleable__content {max-height: 0;max-width: 0;overflow: hidden;text-align: left;background-color: #f0f8ff;}#sk-container-id-3 div.sk-toggleable__content pre {margin: 0.2em;color: black;border-radius: 0.25em;background-color: #f0f8ff;}#sk-container-id-3 input.sk-toggleable__control:checked~div.sk-toggleable__content {max-height: 200px;max-width: 100%;overflow: auto;}#sk-container-id-3 input.sk-toggleable__control:checked~label.sk-toggleable__label-arrow:before {content: \"▾\";}#sk-container-id-3 div.sk-estimator input.sk-toggleable__control:checked~label.sk-toggleable__label {background-color: #d4ebff;}#sk-container-id-3 div.sk-label input.sk-toggleable__control:checked~label.sk-toggleable__label {background-color: #d4ebff;}#sk-container-id-3 input.sk-hidden--visually {border: 0;clip: rect(1px 1px 1px 1px);clip: rect(1px, 1px, 1px, 1px);height: 1px;margin: -1px;overflow: hidden;padding: 0;position: absolute;width: 1px;}#sk-container-id-3 div.sk-estimator {font-family: monospace;background-color: #f0f8ff;border: 1px dotted black;border-radius: 0.25em;box-sizing: border-box;margin-bottom: 0.5em;}#sk-container-id-3 div.sk-estimator:hover {background-color: #d4ebff;}#sk-container-id-3 div.sk-parallel-item::after {content: \"\";width: 100%;border-bottom: 1px solid gray;flex-grow: 1;}#sk-container-id-3 div.sk-label:hover label.sk-toggleable__label {background-color: #d4ebff;}#sk-container-id-3 div.sk-serial::before {content: \"\";position: absolute;border-left: 1px solid gray;box-sizing: border-box;top: 0;bottom: 0;left: 50%;z-index: 0;}#sk-container-id-3 div.sk-serial {display: flex;flex-direction: column;align-items: center;background-color: white;padding-right: 0.2em;padding-left: 0.2em;position: relative;}#sk-container-id-3 div.sk-item {position: relative;z-index: 1;}#sk-container-id-3 div.sk-parallel {display: flex;align-items: stretch;justify-content: center;background-color: white;position: relative;}#sk-container-id-3 div.sk-item::before, #sk-container-id-3 div.sk-parallel-item::before {content: \"\";position: absolute;border-left: 1px solid gray;box-sizing: border-box;top: 0;bottom: 0;left: 50%;z-index: -1;}#sk-container-id-3 div.sk-parallel-item {display: flex;flex-direction: column;z-index: 1;position: relative;background-color: white;}#sk-container-id-3 div.sk-parallel-item:first-child::after {align-self: flex-end;width: 50%;}#sk-container-id-3 div.sk-parallel-item:last-child::after {align-self: flex-start;width: 50%;}#sk-container-id-3 div.sk-parallel-item:only-child::after {width: 0;}#sk-container-id-3 div.sk-dashed-wrapped {border: 1px dashed gray;margin: 0 0.4em 0.5em 0.4em;box-sizing: border-box;padding-bottom: 0.4em;background-color: white;}#sk-container-id-3 div.sk-label label {font-family: monospace;font-weight: bold;display: inline-block;line-height: 1.2em;}#sk-container-id-3 div.sk-label-container {text-align: center;}#sk-container-id-3 div.sk-container {/* jupyter's `normalize.less` sets `[hidden] { display: none; }` but bootstrap.min.css set `[hidden] { display: none !important; }` so we also need the `!important` here to be able to override the default hidden behavior on the sphinx rendered scikit-learn.org. See: https://github.com/scikit-learn/scikit-learn/issues/21755 */display: inline-block !important;position: relative;}#sk-container-id-3 div.sk-text-repr-fallback {display: none;}</style><div id=\"sk-container-id-3\" class=\"sk-top-container\"><div class=\"sk-text-repr-fallback\"><pre>RandomForestClassifier(max_depth=3)</pre><b>In a Jupyter environment, please rerun this cell to show the HTML representation or trust the notebook. <br />On GitHub, the HTML representation is unable to render, please try loading this page with nbviewer.org.</b></div><div class=\"sk-container\" hidden><div class=\"sk-item\"><div class=\"sk-estimator sk-toggleable\"><input class=\"sk-toggleable__control sk-hidden--visually\" id=\"sk-estimator-id-3\" type=\"checkbox\" checked><label for=\"sk-estimator-id-3\" class=\"sk-toggleable__label sk-toggleable__label-arrow\">RandomForestClassifier</label><div class=\"sk-toggleable__content\"><pre>RandomForestClassifier(max_depth=3)</pre></div></div></div></div></div>"
            ],
            "text/plain": [
              "RandomForestClassifier(max_depth=3)"
            ]
          },
          "execution_count": 36,
          "metadata": {},
          "output_type": "execute_result"
        }
      ],
      "source": [
        "# 在訓練集上訓練模型\n",
        "model_random_forest.fit(X_train_mldl, Y_train_mldl)"
      ]
    },
    {
      "cell_type": "code",
      "execution_count": null,
      "metadata": {
        "id": "U5GGxhg2lA0b"
      },
      "outputs": [],
      "source": [
        "# 在測試集上進行預測\n",
        "y_predict = model_random_forest.predict(X_test)"
      ]
    },
    {
      "cell_type": "code",
      "execution_count": null,
      "metadata": {
        "colab": {
          "base_uri": "https://localhost:8080/"
        },
        "id": "tn7VxeR0X4Vt",
        "outputId": "b6bebee9-00fa-40c3-cba0-aa18cf949ce3"
      },
      "outputs": [
        {
          "name": "stdout",
          "output_type": "stream",
          "text": [
            "[[4952   48]\n",
            " [   4 4996]]\n",
            "Precision : 0.9904\n",
            "Recall    : 0.9991928974979822\n",
            "Accuracy  : 0.9948\n",
            "F1-score  : 0.9947770188830856\n"
          ]
        }
      ],
      "source": [
        "# 評估模型\n",
        "from sklearn.metrics import confusion_matrix\n",
        "\n",
        "cm_random_forest = confusion_matrix(Y_test.values, y_predict)\n",
        "print(cm_random_forest)\n",
        "precision_random_forest = cm_random_forest[0][0] /(cm_random_forest[0][0] + cm_random_forest[0][1])\n",
        "recall_random_forest = cm_random_forest[0][0] /(cm_random_forest[0][0] + cm_random_forest[1][0])\n",
        "f1_random_forest = (2 * precision_random_forest * recall_random_forest) / (precision_random_forest + recall_random_forest)\n",
        "\n",
        "print(f\"Precision : {precision_random_forest}\")\n",
        "print(f\"Recall    : {recall_random_forest}\")\n",
        "print(f\"Accuracy  : {(cm_random_forest[0][0] + cm_random_forest[1][1]) / (cm_random_forest[0][0] + cm_random_forest[0][1] + cm_random_forest[1][0] + cm_random_forest[1][1])}\")\n",
        "print(f\"F1-score  : {f1_random_forest}\")"
      ]
    },
    {
      "cell_type": "code",
      "execution_count": null,
      "metadata": {
        "colab": {
          "base_uri": "https://localhost:8080/"
        },
        "id": "PZ9EZZHxo-aM",
        "outputId": "ad3bc700-3c1e-4dc5-c836-d691c3526a12"
      },
      "outputs": [
        {
          "name": "stdout",
          "output_type": "stream",
          "text": [
            "Importances:  [1.15391383e-05 1.05086244e-02 4.14758289e-03 1.15362078e-03\n",
            " 4.07762381e-04 9.08104352e-04 1.82876354e-02 1.86096579e-02\n",
            " 2.09742716e-05 6.25268229e-09 0.00000000e+00 4.32325893e-03\n",
            " 4.79629059e-02 1.56677817e-01 3.24845101e-03 2.60194656e-06\n",
            " 3.83530215e-07 6.21040726e-03 3.62600307e-03 9.35607396e-03\n",
            " 9.48096614e-03 1.23703433e-03 1.37737930e-02 3.81441850e-02\n",
            " 5.97443127e-04 6.98215562e-04 2.61494630e-06 2.66810649e-03\n",
            " 1.41448246e-02 4.86742121e-02 1.38758296e-05 4.50745284e-04\n",
            " 8.69452545e-04 1.30790900e-03 2.98871178e-05 7.34839763e-04\n",
            " 1.20687358e-04 0.00000000e+00 0.00000000e+00 1.26896339e-04\n",
            " 1.37447627e-02 0.00000000e+00 5.04406326e-06 0.00000000e+00\n",
            " 0.00000000e+00 0.00000000e+00 6.76636011e-03 0.00000000e+00\n",
            " 2.21030491e-03 7.80913614e-05 0.00000000e+00 0.00000000e+00\n",
            " 2.33368665e-04 1.33384590e-02 2.88475893e-07 4.80292146e-07\n",
            " 3.61201238e-03 0.00000000e+00 0.00000000e+00 4.13462668e-03\n",
            " 0.00000000e+00 1.53091209e-03 6.39232842e-04 1.31979664e-04\n",
            " 5.16630074e-02 2.85628120e-03 8.84151260e-05 0.00000000e+00\n",
            " 7.64025168e-02 1.84042325e-05 4.26619816e-06 1.62955377e-04\n",
            " 9.99928636e-02 0.00000000e+00 2.17216686e-02 4.23821942e-06\n",
            " 0.00000000e+00 6.85965293e-06 5.90009060e-02 5.26516761e-05\n",
            " 9.45630690e-06 0.00000000e+00 5.36604605e-05 2.09804907e-03\n",
            " 1.55594040e-01 0.00000000e+00 1.04838491e-04 1.33796936e-02\n",
            " 0.00000000e+00 0.00000000e+00 3.43495406e-06 1.14695707e-02\n",
            " 3.95153435e-02 6.22002190e-04 0.00000000e+00 1.54398758e-04\n",
            " 0.00000000e+00 0.00000000e+00 0.00000000e+00 0.00000000e+00\n",
            " 0.00000000e+00 0.00000000e+00 5.54554975e-05 0.00000000e+00\n",
            " 0.00000000e+00 0.00000000e+00 0.00000000e+00]\n"
          ]
        }
      ],
      "source": [
        "# 顯示特徵的重要程度\n",
        "print('Importances: ', model_random_forest.feature_importances_)"
      ]
    },
    {
      "cell_type": "markdown",
      "metadata": {
        "id": "DerxKvGUrfId"
      },
      "source": [
        "## Neural Network"
      ]
    },
    {
      "cell_type": "code",
      "execution_count": null,
      "metadata": {
        "id": "tXgFS3JgrfKj"
      },
      "outputs": [],
      "source": [
        "import tensorflow as tf\n",
        "from tensorflow import keras\n",
        "from tensorflow.keras import layers"
      ]
    },
    {
      "cell_type": "code",
      "execution_count": null,
      "metadata": {
        "colab": {
          "base_uri": "https://localhost:8080/"
        },
        "id": "Vml5SxHZpI9G",
        "outputId": "323524ce-d025-458b-a1fe-1585cccda221"
      },
      "outputs": [
        {
          "data": {
            "text/plain": [
              "(140158, 107)"
            ]
          },
          "execution_count": 41,
          "metadata": {},
          "output_type": "execute_result"
        }
      ],
      "source": [
        "X_train_mldl.shape"
      ]
    },
    {
      "cell_type": "code",
      "execution_count": null,
      "metadata": {
        "id": "e4Wv2ygmvom1"
      },
      "outputs": [],
      "source": [
        "# Normalize\n",
        "normalizer = tf.keras.layers.Normalization(axis=-1)\n",
        "normalizer.adapt(np.array(X_train_mldl))"
      ]
    },
    {
      "cell_type": "code",
      "execution_count": null,
      "metadata": {
        "id": "V_zTm5-PvopF"
      },
      "outputs": [],
      "source": [
        "# 建立神經網路模型\n",
        "model_neural_network = keras.Sequential([\n",
        "  normalizer,\n",
        "  layers.Flatten(input_shape=np.array(X_train_mldl).shape), # 將輸入攤平成一維向量\n",
        "  layers.Dense(256, activation='relu'),\n",
        "  layers.Dropout(0.2),\n",
        "  layers.Dense(128, activation='relu'),\n",
        "  layers.Dropout(0.2),\n",
        "  layers.Dense(64, activation='relu'),\n",
        "  layers.Dropout(0.2),\n",
        "  layers.Dense(32, activation='relu'),\n",
        "  layers.Dropout(0.2),\n",
        "  layers.Dense(1, activation='sigmoid')\n",
        "])"
      ]
    },
    {
      "cell_type": "code",
      "execution_count": null,
      "metadata": {
        "id": "o4F1V0CIvorV"
      },
      "outputs": [],
      "source": [
        "# 編譯模型\n",
        "model_neural_network.compile(optimizer='adam', loss='binary_crossentropy', metrics=['accuracy'])"
      ]
    },
    {
      "cell_type": "code",
      "execution_count": null,
      "metadata": {
        "colab": {
          "base_uri": "https://localhost:8080/"
        },
        "id": "3gyiC59S1noO",
        "outputId": "f4f5cd67-126a-4afe-f644-c4c0e140ad39"
      },
      "outputs": [
        {
          "name": "stdout",
          "output_type": "stream",
          "text": [
            "Model: \"sequential\"\n",
            "_________________________________________________________________\n",
            " Layer (type)                Output Shape              Param #   \n",
            "=================================================================\n",
            " normalization (Normalizatio  (None, 107)              215       \n",
            " n)                                                              \n",
            "                                                                 \n",
            " flatten (Flatten)           (None, 107)               0         \n",
            "                                                                 \n",
            " dense (Dense)               (None, 256)               27648     \n",
            "                                                                 \n",
            " dropout (Dropout)           (None, 256)               0         \n",
            "                                                                 \n",
            " dense_1 (Dense)             (None, 128)               32896     \n",
            "                                                                 \n",
            " dropout_1 (Dropout)         (None, 128)               0         \n",
            "                                                                 \n",
            " dense_2 (Dense)             (None, 64)                8256      \n",
            "                                                                 \n",
            " dropout_2 (Dropout)         (None, 64)                0         \n",
            "                                                                 \n",
            " dense_3 (Dense)             (None, 32)                2080      \n",
            "                                                                 \n",
            " dropout_3 (Dropout)         (None, 32)                0         \n",
            "                                                                 \n",
            " dense_4 (Dense)             (None, 1)                 33        \n",
            "                                                                 \n",
            "=================================================================\n",
            "Total params: 71,128\n",
            "Trainable params: 70,913\n",
            "Non-trainable params: 215\n",
            "_________________________________________________________________\n"
          ]
        }
      ],
      "source": [
        "# 查看模型\n",
        "model_neural_network.summary()"
      ]
    },
    {
      "cell_type": "code",
      "execution_count": null,
      "metadata": {
        "colab": {
          "base_uri": "https://localhost:8080/"
        },
        "id": "v3wnMECGvotl",
        "outputId": "ffb78e81-8e06-443b-db5b-ff9004655241"
      },
      "outputs": [
        {
          "name": "stdout",
          "output_type": "stream",
          "text": [
            "Epoch 1/20\n",
            "438/438 [==============================] - 6s 9ms/step - loss: 0.0432 - accuracy: 0.9903 - val_loss: 0.0060 - val_accuracy: 0.9996\n",
            "Epoch 2/20\n",
            "438/438 [==============================] - 4s 9ms/step - loss: 0.0225 - accuracy: 0.9956 - val_loss: 0.0073 - val_accuracy: 0.9993\n",
            "Epoch 3/20\n",
            "438/438 [==============================] - 4s 9ms/step - loss: 0.0201 - accuracy: 0.9959 - val_loss: 0.0050 - val_accuracy: 0.9997\n",
            "Epoch 4/20\n",
            "438/438 [==============================] - 4s 9ms/step - loss: 0.0195 - accuracy: 0.9960 - val_loss: 0.0108 - val_accuracy: 0.9995\n"
          ]
        }
      ],
      "source": [
        "# 訓練3輪之後都沒有進步0.0005的話就提早停止訓練\n",
        "callback = keras.callbacks.EarlyStopping(\n",
        "  monitor = 'val_accuracy', # monitor val_accuracy when training\n",
        "  min_delta = 0.0005, # minimum change of 'monitor' to qualify as an improvementness.\n",
        "  patience = 3 # epochs with no improvement after which training will be stopped.\n",
        ")\n",
        "\n",
        "# 訓練模型\n",
        "history_neural_network = model_neural_network.fit(\n",
        "  np.array(X_train_mldl),\n",
        "  np.array(Y_train_mldl).astype(int),\n",
        "  epochs = 20,\n",
        "  batch_size = 256,\n",
        "  shuffle = True,\n",
        "  callbacks = [callback],\n",
        "  validation_split = 0.2\n",
        ")"
      ]
    },
    {
      "cell_type": "code",
      "execution_count": null,
      "metadata": {
        "colab": {
          "base_uri": "https://localhost:8080/",
          "height": 453
        },
        "id": "HPvVHgD9-vj7",
        "outputId": "6cd1b0c3-8fb7-4551-e9db-32828f4b0672"
      },
      "outputs": [
        {
          "data": {
            "image/png": "[encoded data removed]",
            "text/plain": [
              "<Figure size 1500x500 with 2 Axes>"
            ]
          },
          "metadata": {},
          "output_type": "display_data"
        }
      ],
      "source": [
        "# 畫圖展示Training時的Loss和Accuracy\n",
        "def plot_loss_and_accuracy(history):\n",
        "  plt.figure(figsize=(15, 5))\n",
        "  plt.subplot(1, 2, 1)\n",
        "  plt.plot(history.history['loss'], label='training_loss')\n",
        "  plt.plot(history.history['val_loss'], label='training_val_loss')\n",
        "  plt.xlabel('Epoch')\n",
        "  plt.ylabel('Loss')\n",
        "  plt.legend()\n",
        "  plt.subplot(1, 2, 2)\n",
        "  plt.plot(history.history['accuracy'], label='training_accuracy')\n",
        "  plt.plot(history.history['val_accuracy'], label='training_val_accuracy')\n",
        "  plt.xlabel('Epoch')\n",
        "  plt.ylabel('Accuracy')\n",
        "  plt.legend()\n",
        "\n",
        "plot_loss_and_accuracy(history_neural_network)"
      ]
    },
    {
      "cell_type": "code",
      "execution_count": null,
      "metadata": {
        "colab": {
          "base_uri": "https://localhost:8080/"
        },
        "id": "7wL_N5-wZ2TF",
        "outputId": "d83695c6-011f-4fe3-ac9c-b50e643dcc1a"
      },
      "outputs": [
        {
          "name": "stdout",
          "output_type": "stream",
          "text": [
            "313/313 [==============================] - 1s 1ms/step\n"
          ]
        }
      ],
      "source": [
        "# 在測試集上進行預測\n",
        "y_predict = model_neural_network.predict(np.array(X_test))"
      ]
    },
    {
      "cell_type": "code",
      "execution_count": null,
      "metadata": {
        "colab": {
          "base_uri": "https://localhost:8080/"
        },
        "id": "56Cg4s1SYU61",
        "outputId": "9bd0335d-29e4-44ca-fd63-5719eddd9496"
      },
      "outputs": [
        {
          "name": "stdout",
          "output_type": "stream",
          "text": [
            "[[4976   24]\n",
            " [   3 4997]]\n",
            "Precision : 0.9952\n",
            "Recall    : 0.9993974693713598\n",
            "Accuracy  : 0.9973\n",
            "F1-score  : 0.9972943180679427\n"
          ]
        }
      ],
      "source": [
        "# 評估模型\n",
        "from sklearn.metrics import confusion_matrix\n",
        "\n",
        "cm_neural_network = confusion_matrix(np.array(Y_test).astype(int), y_predict.round().astype(int))\n",
        "print(cm_neural_network)\n",
        "precision_neural_network = cm_neural_network[0][0] /(cm_neural_network[0][0] + cm_neural_network[0][1])\n",
        "recall_neural_network = cm_neural_network[0][0] /(cm_neural_network[0][0] + cm_neural_network[1][0])\n",
        "f1_neural_network = (2 * precision_neural_network * recall_neural_network) / (precision_neural_network + recall_neural_network)\n",
        "\n",
        "print(f\"Precision : {precision_neural_network}\")\n",
        "print(f\"Recall    : {recall_neural_network}\")\n",
        "print(f\"Accuracy  : {(cm_neural_network[0][0] + cm_neural_network[1][1]) / (cm_neural_network[0][0] + cm_neural_network[0][1] + cm_neural_network[1][0] + cm_neural_network[1][1])}\")\n",
        "print(f\"F1-score  : {f1_neural_network}\")"
      ]
    },
    {
      "cell_type": "markdown",
      "metadata": {
        "id": "CIGGn-p_B1xd"
      },
      "source": [
        "# Model Evaluation\n",
        "\n",
        "A table to record how well our best models perform on testing data\n",
        "\n",
        "<!DOCTYPE html>\n",
        "<html>\n",
        "<head>\n",
        "    <title>Model Performance Comparison</title>\n",
        "</head>\n",
        "<body>\n",
        "    <table>\n",
        "        <tr>\n",
        "            <th>Models</th>\n",
        "            <th>AutoEncoder</th>\n",
        "            <th>Logistic Regression</th>\n",
        "            <th>Decision Tree</th>\n",
        "            <th>Random Forest</th>\n",
        "            <th>Neural Network</th>\n",
        "        </tr>\n",
        "        <tr>\n",
        "            <td>Accuracy</td>\n",
        "            <td>0.9905</td>\n",
        "            <td>0.9972</td>\n",
        "            <td>0.9968</td>\n",
        "            <td>0.9952</td>\n",
        "            <td>0.9973</td>\n",
        "        </tr>\n",
        "        <tr>\n",
        "            <td>Recall</td>\n",
        "            <td>0.9831</td>\n",
        "            <td>0.9994</td>\n",
        "            <td>1.0</td>\n",
        "            <td>1.0</td>\n",
        "            <td>0.9994</td>\n",
        "        </tr>\n",
        "        <tr>\n",
        "            <td>Precision</td>\n",
        "            <td>0.9982</td>\n",
        "            <td>0.995</td>\n",
        "            <td>0.9936</td>\n",
        "            <td>0.9904</td>\n",
        "            <td>0.9952</td>\n",
        "        </tr>\n",
        "        <tr>\n",
        "            <td>F1 Score</td>\n",
        "            <td>0.9906</td>\n",
        "            <td>0.9972</td>\n",
        "            <td>0.9968</td>\n",
        "            <td>0.9952</td>\n",
        "            <td>0.9973</td>\n",
        "        </tr>\n",
        "    </table>\n",
        "</body>\n",
        "</html>\n",
        "\n",
        "Finally, we conclude that the neural network is the best model for solving our problem, which is to classify between normal and attack packet."
      ]
    },
    {
      "cell_type": "markdown",
      "metadata": {
        "id": "PPvOxREZBkmY"
      },
      "source": [
        "# Discussion"
      ]
    },
    {
      "cell_type": "markdown",
      "metadata": {
        "id": "apvIFxF4Cyrw"
      },
      "source": [
        "## Conclusion\n",
        "\n",
        "1. When we perform undersampling, the result is largely dependent on randomness. Therefore, there might be chances that we may sample too many margin data, so that the models would perform poorly. One solution to this problem is to sample only the typical normal data.\n",
        "\n",
        "2. It is worth noting that we have to perform one hot encoding before normalizing the dataset.\n",
        "\n",
        "3. All in all, we conclude that the neural network is the best model for solving our problem, which is to classify between normal and attack packet.\n"
      ]
    },
    {
      "cell_type": "markdown",
      "metadata": {
        "id": "8ALGY_1qBo23"
      },
      "source": [
        "## Future work\n",
        "1.\tMalicious classification (10 class)\n",
        "\n",
        "  In this proposal we only address binary classification problem. For future work, we may devise models that can classify types of attack for anomaly packet.\n",
        "\n",
        "2.\tPenalized loss for autoencoder\n",
        "\n",
        "  For our autoencoder model, we can feed in normal packets. However, we may also feed anomaly packets and try to maximize its loss at the same time.\n"
      ]
    }
  ],
  "metadata": {
    "colab": {
      "gpuType": "T4",
      "machine_shape": "hm",
      "provenance": [],
      "toc_visible": true
    },
    "kernelspec": {
      "display_name": "Python 3",
      "name": "python3"
    }
  },
  "nbformat": 4,
  "nbformat_minor": 0
}